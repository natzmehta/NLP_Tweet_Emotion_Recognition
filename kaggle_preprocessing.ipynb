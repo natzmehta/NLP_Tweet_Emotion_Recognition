{
 "cells": [
  {
   "cell_type": "code",
   "execution_count": 1,
   "metadata": {},
   "outputs": [],
   "source": [
    "basepath = 'C:/Users/shaur/Desktop/UTD/ANLP'"
   ]
  },
  {
   "cell_type": "code",
   "execution_count": 2,
   "metadata": {},
   "outputs": [],
   "source": [
    "import sys\n",
    "from pathlib import Path"
   ]
  },
  {
   "cell_type": "code",
   "execution_count": 3,
   "metadata": {},
   "outputs": [],
   "source": [
    "base_folder = Path(basepath)\n",
    "data_folder = base_folder/'datasets/emotion'\n",
    "model_folder = base_folder/'models/nlp_spring_2024/emotion/nn'\n",
    "custom_functions = base_folder/'custom_files'"
   ]
  },
  {
   "cell_type": "code",
   "execution_count": 4,
   "metadata": {},
   "outputs": [],
   "source": [
    "sys.path.append(str(custom_functions))\n",
    "model_folder.mkdir(exist_ok=True, parents = True)"
   ]
  },
  {
   "cell_type": "code",
   "execution_count": 5,
   "metadata": {},
   "outputs": [
    {
     "name": "stderr",
     "output_type": "stream",
     "text": [
      "c:\\Users\\shaur\\anaconda3\\envs\\anlp\\lib\\site-packages\\tqdm\\auto.py:21: TqdmWarning: IProgress not found. Please update jupyter and ipywidgets. See https://ipywidgets.readthedocs.io/en/stable/user_install.html\n",
      "  from .autonotebook import tqdm as notebook_tqdm\n"
     ]
    }
   ],
   "source": [
    "import torch\n",
    "import torch.nn as nn\n",
    "\n",
    "# For working with textual data vocabularies and for displaying model summaries\n",
    "from torchtext.vocab import vocab\n",
    "\n",
    "# General-purpose Python libraries for random number generation and numerical operations\n",
    "import random\n",
    "import numpy as np\n",
    "\n",
    "# Utilities for efficient serialization/deserialization of Python objects and for element tallying\n",
    "import joblib\n",
    "from collections import Counter\n",
    "import re\n",
    "\n",
    "# For creating lightweight attribute classes and for partial function application\n",
    "from functools import partial\n",
    "\n",
    "# For filesystem path handling, generating and displaying confusion matrices, and date-time manipulations\n",
    "from sklearn.metrics import multilabel_confusion_matrix, hamming_loss, accuracy_score, f1_score\n",
    "from sklearn.model_selection import train_test_split\n",
    "from datetime import datetime\n",
    "import pandas as pd\n",
    "import emoji\n",
    "import string\n",
    "from nltk.corpus import stopwords\n",
    "from nltk.tokenize import word_tokenize\n",
    "from nltk.stem import WordNetLemmatizer\n",
    "\n",
    "# For plotting and visualization\n",
    "import matplotlib.pyplot as plt\n",
    "import seaborn as sns\n",
    "\n",
    "from kaggle import api\n",
    "\n",
    "### NEW ##########################\n",
    "# imports from Huggingface ecosystem\n",
    "import evaluate\n",
    "from datasets import load_dataset, DatasetDict, Dataset\n",
    "from transformers import TrainingArguments, Trainer\n",
    "from transformers import AutoTokenizer\n",
    "from transformers import AutoModelForSequenceClassification\n",
    "from transformers import AutoConfig\n",
    "from transformers import pipeline\n",
    "import wandb"
   ]
  },
  {
   "cell_type": "code",
   "execution_count": 6,
   "metadata": {},
   "outputs": [],
   "source": [
    "train = pd.read_csv(data_folder/'train.csv')\n",
    "test = pd.read_csv(data_folder/'test.csv')"
   ]
  },
  {
   "cell_type": "code",
   "execution_count": 7,
   "metadata": {},
   "outputs": [
    {
     "data": {
      "text/html": [
       "<div>\n",
       "<style scoped>\n",
       "    .dataframe tbody tr th:only-of-type {\n",
       "        vertical-align: middle;\n",
       "    }\n",
       "\n",
       "    .dataframe tbody tr th {\n",
       "        vertical-align: top;\n",
       "    }\n",
       "\n",
       "    .dataframe thead th {\n",
       "        text-align: right;\n",
       "    }\n",
       "</style>\n",
       "<table border=\"1\" class=\"dataframe\">\n",
       "  <thead>\n",
       "    <tr style=\"text-align: right;\">\n",
       "      <th></th>\n",
       "      <th>Tweet</th>\n",
       "      <th>anger</th>\n",
       "      <th>anticipation</th>\n",
       "      <th>disgust</th>\n",
       "      <th>fear</th>\n",
       "      <th>joy</th>\n",
       "      <th>love</th>\n",
       "      <th>optimism</th>\n",
       "      <th>pessimism</th>\n",
       "      <th>sadness</th>\n",
       "      <th>surprise</th>\n",
       "      <th>trust</th>\n",
       "    </tr>\n",
       "  </thead>\n",
       "  <tbody>\n",
       "    <tr>\n",
       "      <th>0</th>\n",
       "      <td>“Worry is a down payment on a problem you may ...</td>\n",
       "      <td>0</td>\n",
       "      <td>1</td>\n",
       "      <td>0</td>\n",
       "      <td>0</td>\n",
       "      <td>0</td>\n",
       "      <td>0</td>\n",
       "      <td>1</td>\n",
       "      <td>0</td>\n",
       "      <td>0</td>\n",
       "      <td>0</td>\n",
       "      <td>1</td>\n",
       "    </tr>\n",
       "    <tr>\n",
       "      <th>1</th>\n",
       "      <td>Whatever you decide to do make sure it makes y...</td>\n",
       "      <td>0</td>\n",
       "      <td>0</td>\n",
       "      <td>0</td>\n",
       "      <td>0</td>\n",
       "      <td>1</td>\n",
       "      <td>1</td>\n",
       "      <td>1</td>\n",
       "      <td>0</td>\n",
       "      <td>0</td>\n",
       "      <td>0</td>\n",
       "      <td>0</td>\n",
       "    </tr>\n",
       "    <tr>\n",
       "      <th>2</th>\n",
       "      <td>@Max_Kellerman  it also helps that the majorit...</td>\n",
       "      <td>1</td>\n",
       "      <td>0</td>\n",
       "      <td>1</td>\n",
       "      <td>0</td>\n",
       "      <td>1</td>\n",
       "      <td>0</td>\n",
       "      <td>1</td>\n",
       "      <td>0</td>\n",
       "      <td>0</td>\n",
       "      <td>0</td>\n",
       "      <td>0</td>\n",
       "    </tr>\n",
       "    <tr>\n",
       "      <th>3</th>\n",
       "      <td>Accept the challenges so that you can literall...</td>\n",
       "      <td>0</td>\n",
       "      <td>0</td>\n",
       "      <td>0</td>\n",
       "      <td>0</td>\n",
       "      <td>1</td>\n",
       "      <td>0</td>\n",
       "      <td>1</td>\n",
       "      <td>0</td>\n",
       "      <td>0</td>\n",
       "      <td>0</td>\n",
       "      <td>0</td>\n",
       "    </tr>\n",
       "    <tr>\n",
       "      <th>4</th>\n",
       "      <td>My roommate: it's okay that we can't spell bec...</td>\n",
       "      <td>1</td>\n",
       "      <td>0</td>\n",
       "      <td>1</td>\n",
       "      <td>0</td>\n",
       "      <td>0</td>\n",
       "      <td>0</td>\n",
       "      <td>0</td>\n",
       "      <td>0</td>\n",
       "      <td>0</td>\n",
       "      <td>0</td>\n",
       "      <td>0</td>\n",
       "    </tr>\n",
       "  </tbody>\n",
       "</table>\n",
       "</div>"
      ],
      "text/plain": [
       "                                               Tweet  anger  anticipation  \\\n",
       "0  “Worry is a down payment on a problem you may ...      0             1   \n",
       "1  Whatever you decide to do make sure it makes y...      0             0   \n",
       "2  @Max_Kellerman  it also helps that the majorit...      1             0   \n",
       "3  Accept the challenges so that you can literall...      0             0   \n",
       "4  My roommate: it's okay that we can't spell bec...      1             0   \n",
       "\n",
       "   disgust  fear  joy  love  optimism  pessimism  sadness  surprise  trust  \n",
       "0        0     0    0     0         1          0        0         0      1  \n",
       "1        0     0    1     1         1          0        0         0      0  \n",
       "2        1     0    1     0         1          0        0         0      0  \n",
       "3        0     0    1     0         1          0        0         0      0  \n",
       "4        1     0    0     0         0          0        0         0      0  "
      ]
     },
     "execution_count": 7,
     "metadata": {},
     "output_type": "execute_result"
    }
   ],
   "source": [
    "train.drop(columns=['ID'], inplace=True)\n",
    "train.head()"
   ]
  },
  {
   "cell_type": "markdown",
   "metadata": {},
   "source": [
    "## Preprocessing"
   ]
  },
  {
   "cell_type": "code",
   "execution_count": 8,
   "metadata": {},
   "outputs": [],
   "source": [
    "def get_emoji_regexp():\n",
    "    emojis = sorted(emoji.EMOJI_DATA, key=len, reverse=True)\n",
    "    pattern = u'(' + u'|'.join(re.escape(u) for u in emojis) + u')'\n",
    "    return re.compile(pattern)\n",
    "\n",
    "def strip_emoji(text):\n",
    "    return re.sub(get_emoji_regexp(), r\"\", text)\n",
    "\n",
    "def strip_all_entities(text): \n",
    "    text = text.replace('\\r', '').replace('\\n', ' ').replace('\\n', ' ').lower()\n",
    "    text = re.sub(r\"(?:\\@|https?\\://)\\S+\", \"\", text) #remove links and mentions\n",
    "    text = re.sub(r'[^\\x00-\\x7f]',r'', text) #remove non utf8/ascii characters such as '\\x9a\\x91\\x97\\x9a\\x97'\n",
    "    banned_list= string.punctuation + 'Ã'+'±'+'ã'+'¼'+'â'+'»'+'§'\n",
    "    table = str.maketrans('', '', banned_list)\n",
    "    text = text.translate(table)\n",
    "    return text\n",
    "\n",
    "def clean_hashtags(tweet):\n",
    "    new_tweet = \" \".join(word.strip() for word in re.split('#(?!(?:hashtag)\\b)[\\w-]+(?=(?:\\s+#[\\w-]+)*\\s*$)', tweet)) #remove last hashtags\n",
    "    new_tweet2 = \" \".join(word.strip() for word in re.split('#|_', new_tweet)) #remove hashtags symbol from words in the middle of the sentence\n",
    "    return new_tweet2\n",
    "\n",
    "#Filter special characters such as & and $ present in some words\n",
    "def filter_chars(a):\n",
    "    sent = []\n",
    "    for word in a.split(' '):\n",
    "        if ('$' in word) | ('&' in word):\n",
    "            sent.append('')\n",
    "        else:\n",
    "            sent.append(word)\n",
    "    return ' '.join(sent)\n",
    "\n",
    "def remove_mult_spaces(text): # remove multiple spaces\n",
    "    return re.sub(\"\\s\\s+\" , \" \", text)\n",
    "\n",
    "def remove_stopwords(text):\n",
    "    stop_words = set(stopwords.words('english'))\n",
    "    word_tokens = word_tokenize(text)\n",
    "    filtered_text = [word for word in word_tokens if word.lower() not in stop_words]\n",
    "    return ' '.join(filtered_text)"
   ]
  },
  {
   "cell_type": "markdown",
   "metadata": {},
   "source": [
    "## With emojis"
   ]
  },
  {
   "cell_type": "code",
   "execution_count": 24,
   "metadata": {},
   "outputs": [],
   "source": [
    "train_clean = train['Tweet'].apply(strip_all_entities).apply(clean_hashtags).apply(filter_chars).apply(remove_mult_spaces)\n",
    "train['Tweet'] = train_clean"
   ]
  },
  {
   "cell_type": "code",
   "execution_count": 25,
   "metadata": {},
   "outputs": [],
   "source": [
    "X = train['Tweet'].values\n",
    "y = train.loc[:, train.columns != 'Tweet'].values\n",
    "y = np.array(y, dtype=float)"
   ]
  },
  {
   "cell_type": "code",
   "execution_count": 26,
   "metadata": {},
   "outputs": [],
   "source": [
    "X_train, X_val, y_train, y_val  = train_test_split(X, y, random_state=42,test_size=0.1)"
   ]
  },
  {
   "cell_type": "code",
   "execution_count": 27,
   "metadata": {},
   "outputs": [],
   "source": [
    "trainset = Dataset.from_dict({\n",
    "    'texts': X_train,\n",
    "    'labels': y_train\n",
    "})\n",
    "validset = Dataset.from_dict({\n",
    "    'texts': X_val,\n",
    "    'labels': y_val\n",
    "})"
   ]
  },
  {
   "cell_type": "code",
   "execution_count": 28,
   "metadata": {},
   "outputs": [],
   "source": [
    "id2label = {0: \"anger\", 1: \"anticipation\", 2: \"disgust\", 3: \"fear\", 4: \"joy\", 5: \"love\", 6: \"optimism\", 7: \"pessimism\", 8: \"sadness\", 9: \"surprise\", 10: \"trust\"}\n",
    "label2id = {id2label[k]: k for k in id2label}"
   ]
  },
  {
   "cell_type": "code",
   "execution_count": 29,
   "metadata": {},
   "outputs": [],
   "source": [
    "def compute_metrics(eval_pred):\n",
    "    logits, labels = eval_pred\n",
    "    predictions = nn.functional.sigmoid(torch.Tensor(logits))\n",
    "    predictions = (predictions >= 0.5).int().numpy()\n",
    "\n",
    "    overall_accuracy = accuracy_score(labels, predictions)\n",
    "    overall_f1 = f1_score(labels, predictions, average='macro', zero_division=0)\n",
    "\n",
    "    return {\n",
    "        'eval_accuracy': overall_accuracy,\n",
    "        'eval_f1': overall_f1\n",
    "    }"
   ]
  },
  {
   "cell_type": "code",
   "execution_count": 15,
   "metadata": {},
   "outputs": [],
   "source": [
    "checkpoint = \"roberta-base\"\n",
    "tokenizer = AutoTokenizer.from_pretrained(checkpoint)"
   ]
  },
  {
   "cell_type": "code",
   "execution_count": 29,
   "metadata": {},
   "outputs": [],
   "source": [
    "def tokenize_fn(batch):\n",
    "    return tokenizer(text = batch[\"texts\"], truncation=True)"
   ]
  },
  {
   "cell_type": "code",
   "execution_count": 30,
   "metadata": {},
   "outputs": [
    {
     "name": "stderr",
     "output_type": "stream",
     "text": [
      "Map: 100%|██████████| 6951/6951 [00:00<00:00, 26990.33 examples/s]\n",
      "Map: 100%|██████████| 773/773 [00:00<00:00, 38262.78 examples/s]\n"
     ]
    }
   ],
   "source": [
    "trainset_tokenized = trainset.map(tokenize_fn, batched=True)\n",
    "validset_tokenized = validset.map(tokenize_fn, batched=True)\n",
    "trainset_tokenized = trainset_tokenized.remove_columns(['texts'])\n",
    "validset_tokenized = validset_tokenized.remove_columns(['texts'])\n",
    "trainset_tokenized.set_format(type='torch')\n",
    "validset_tokenized.set_format(type='torch')"
   ]
  },
  {
   "cell_type": "code",
   "execution_count": 31,
   "metadata": {},
   "outputs": [
    {
     "name": "stderr",
     "output_type": "stream",
     "text": [
      "Some weights of RobertaForSequenceClassification were not initialized from the model checkpoint at roberta-base and are newly initialized: ['classifier.dense.bias', 'classifier.dense.weight', 'classifier.out_proj.bias', 'classifier.out_proj.weight']\n",
      "You should probably TRAIN this model on a down-stream task to be able to use it for predictions and inference.\n"
     ]
    }
   ],
   "source": [
    "model = AutoModelForSequenceClassification.from_pretrained(\n",
    "    checkpoint, \n",
    "    problem_type=\"multi_label_classification\", \n",
    "    num_labels=len(label2id),\n",
    "    id2label=id2label,\n",
    "    label2id=label2id\n",
    ")"
   ]
  },
  {
   "cell_type": "code",
   "execution_count": 32,
   "metadata": {},
   "outputs": [],
   "source": [
    "training_args = TrainingArguments(\n",
    "    num_train_epochs=2,\n",
    "\n",
    "    per_device_train_batch_size=16,\n",
    "    per_device_eval_batch_size=16,\n",
    "    # weight_decay=0.01,  \n",
    "    # learning_rate=2e-5, \n",
    "    optim='adamw_torch',\n",
    "\n",
    "    # Checkpoint saving and model evaluation settings\n",
    "    output_dir=str(model_folder/'bert'), \n",
    "    evaluation_strategy='steps', \n",
    "    eval_steps=100, \n",
    "    save_strategy=\"steps\", \n",
    "    save_steps=100, \n",
    "    load_best_model_at_end=True, \n",
    "    save_total_limit=2, \n",
    "    metric_for_best_model=\"loss\",\n",
    "    greater_is_better=False, \n",
    ")"
   ]
  },
  {
   "cell_type": "code",
   "execution_count": 33,
   "metadata": {},
   "outputs": [
    {
     "name": "stderr",
     "output_type": "stream",
     "text": [
      "c:\\Users\\shaur\\anaconda3\\envs\\anlp\\lib\\site-packages\\accelerate\\accelerator.py:432: FutureWarning: Passing the following arguments to `Accelerator` is deprecated and will be removed in version 1.0 of Accelerate: dict_keys(['dispatch_batches', 'split_batches', 'even_batches', 'use_seedable_sampler']). Please pass an `accelerate.DataLoaderConfiguration` instead: \n",
      "dataloader_config = DataLoaderConfiguration(dispatch_batches=None, split_batches=False, even_batches=True, use_seedable_sampler=True)\n",
      "  warnings.warn(\n",
      "Failed to detect the name of this notebook, you can set it manually with the WANDB_NOTEBOOK_NAME environment variable to enable code saving.\n",
      "\u001b[34m\u001b[1mwandb\u001b[0m: Currently logged in as: \u001b[33mshauryat1298\u001b[0m (\u001b[33mshauryat12\u001b[0m). Use \u001b[1m`wandb login --relogin`\u001b[0m to force relogin\n"
     ]
    },
    {
     "data": {
      "text/html": [
       "wandb version 0.16.6 is available!  To upgrade, please run:\n",
       " $ pip install wandb --upgrade"
      ],
      "text/plain": [
       "<IPython.core.display.HTML object>"
      ]
     },
     "metadata": {},
     "output_type": "display_data"
    },
    {
     "data": {
      "text/html": [
       "Tracking run with wandb version 0.16.5"
      ],
      "text/plain": [
       "<IPython.core.display.HTML object>"
      ]
     },
     "metadata": {},
     "output_type": "display_data"
    },
    {
     "data": {
      "text/html": [
       "Run data is saved locally in <code>c:\\Users\\shaur\\Desktop\\UTD\\ANLP\\Assignments\\Emotion Detection\\wandb\\run-20240408_190851-9emykaza</code>"
      ],
      "text/plain": [
       "<IPython.core.display.HTML object>"
      ]
     },
     "metadata": {},
     "output_type": "display_data"
    },
    {
     "data": {
      "text/html": [
       "Syncing run <strong><a href='https://wandb.ai/shauryat12/huggingface/runs/9emykaza/workspace' target=\"_blank\">fancy-eon-14</a></strong> to <a href='https://wandb.ai/shauryat12/huggingface' target=\"_blank\">Weights & Biases</a> (<a href='https://wandb.me/run' target=\"_blank\">docs</a>)<br/>"
      ],
      "text/plain": [
       "<IPython.core.display.HTML object>"
      ]
     },
     "metadata": {},
     "output_type": "display_data"
    },
    {
     "data": {
      "text/html": [
       " View project at <a href='https://wandb.ai/shauryat12/huggingface' target=\"_blank\">https://wandb.ai/shauryat12/huggingface</a>"
      ],
      "text/plain": [
       "<IPython.core.display.HTML object>"
      ]
     },
     "metadata": {},
     "output_type": "display_data"
    },
    {
     "data": {
      "text/html": [
       " View run at <a href='https://wandb.ai/shauryat12/huggingface/runs/9emykaza/workspace' target=\"_blank\">https://wandb.ai/shauryat12/huggingface/runs/9emykaza/workspace</a>"
      ],
      "text/plain": [
       "<IPython.core.display.HTML object>"
      ]
     },
     "metadata": {},
     "output_type": "display_data"
    },
    {
     "name": "stderr",
     "output_type": "stream",
     "text": [
      "                                                \n",
      " 11%|█▏        | 100/870 [00:12<01:15, 10.16it/s]"
     ]
    },
    {
     "name": "stdout",
     "output_type": "stream",
     "text": [
      "{'eval_accuracy': 0.15135834411384216, 'eval_f1': 0.2467690879336191, 'eval_loss': 0.4064771234989166, 'eval_runtime': 1.2659, 'eval_samples_per_second': 610.656, 'eval_steps_per_second': 38.709, 'epoch': 0.23}\n"
     ]
    },
    {
     "name": "stderr",
     "output_type": "stream",
     "text": [
      "                                                 \n",
      " 23%|██▎       | 200/870 [00:26<01:09,  9.61it/s]"
     ]
    },
    {
     "name": "stdout",
     "output_type": "stream",
     "text": [
      "{'eval_accuracy': 0.2095730918499353, 'eval_f1': 0.37230357779471634, 'eval_loss': 0.35265040397644043, 'eval_runtime': 1.3157, 'eval_samples_per_second': 587.515, 'eval_steps_per_second': 37.242, 'epoch': 0.46}\n"
     ]
    },
    {
     "name": "stderr",
     "output_type": "stream",
     "text": [
      "                                                 \n",
      " 34%|███▍      | 300/870 [00:39<00:59,  9.64it/s]"
     ]
    },
    {
     "name": "stdout",
     "output_type": "stream",
     "text": [
      "{'eval_accuracy': 0.24838292367399742, 'eval_f1': 0.4336377169548166, 'eval_loss': 0.34121763706207275, 'eval_runtime': 1.3119, 'eval_samples_per_second': 589.244, 'eval_steps_per_second': 37.352, 'epoch': 0.69}\n"
     ]
    },
    {
     "name": "stderr",
     "output_type": "stream",
     "text": [
      "                                                 \n",
      " 46%|████▌     | 400/870 [00:52<00:48,  9.67it/s]"
     ]
    },
    {
     "name": "stdout",
     "output_type": "stream",
     "text": [
      "{'eval_accuracy': 0.2445019404915912, 'eval_f1': 0.4287524609505278, 'eval_loss': 0.3226662278175354, 'eval_runtime': 1.3168, 'eval_samples_per_second': 587.031, 'eval_steps_per_second': 37.212, 'epoch': 0.92}\n"
     ]
    },
    {
     "name": "stderr",
     "output_type": "stream",
     "text": [
      " 57%|█████▋    | 500/870 [01:05<00:39,  9.37it/s]"
     ]
    },
    {
     "name": "stdout",
     "output_type": "stream",
     "text": [
      "{'loss': 0.363, 'grad_norm': 2.586293935775757, 'learning_rate': 2.1264367816091954e-05, 'epoch': 1.15}\n"
     ]
    },
    {
     "name": "stderr",
     "output_type": "stream",
     "text": [
      "                                                 \n",
      " 57%|█████▋    | 500/870 [01:07<00:39,  9.37it/s]"
     ]
    },
    {
     "name": "stdout",
     "output_type": "stream",
     "text": [
      "{'eval_accuracy': 0.24838292367399742, 'eval_f1': 0.48399863942223625, 'eval_loss': 0.3225821852684021, 'eval_runtime': 1.3489, 'eval_samples_per_second': 573.043, 'eval_steps_per_second': 36.325, 'epoch': 1.15}\n"
     ]
    },
    {
     "name": "stderr",
     "output_type": "stream",
     "text": [
      "                                                 \n",
      " 69%|██████▉   | 600/870 [01:20<00:27,  9.84it/s]"
     ]
    },
    {
     "name": "stdout",
     "output_type": "stream",
     "text": [
      "{'eval_accuracy': 0.2626131953428202, 'eval_f1': 0.504497225656388, 'eval_loss': 0.31848984956741333, 'eval_runtime': 1.3268, 'eval_samples_per_second': 582.602, 'eval_steps_per_second': 36.931, 'epoch': 1.38}\n"
     ]
    },
    {
     "name": "stderr",
     "output_type": "stream",
     "text": [
      "                                                 \n",
      " 80%|████████  | 700/870 [01:36<00:23,  7.34it/s]"
     ]
    },
    {
     "name": "stdout",
     "output_type": "stream",
     "text": [
      "{'eval_accuracy': 0.24967658473479948, 'eval_f1': 0.5009930649448778, 'eval_loss': 0.30975738167762756, 'eval_runtime': 1.6721, 'eval_samples_per_second': 462.302, 'eval_steps_per_second': 29.305, 'epoch': 1.61}\n"
     ]
    },
    {
     "name": "stderr",
     "output_type": "stream",
     "text": [
      "                                                 \n",
      " 92%|█████████▏| 800/870 [01:51<00:08,  8.39it/s]"
     ]
    },
    {
     "name": "stdout",
     "output_type": "stream",
     "text": [
      "{'eval_accuracy': 0.2677878395860285, 'eval_f1': 0.5099149172161507, 'eval_loss': 0.3098415732383728, 'eval_runtime': 1.5092, 'eval_samples_per_second': 512.181, 'eval_steps_per_second': 32.467, 'epoch': 1.84}\n"
     ]
    },
    {
     "name": "stderr",
     "output_type": "stream",
     "text": [
      "100%|██████████| 870/870 [02:01<00:00,  7.18it/s]"
     ]
    },
    {
     "name": "stdout",
     "output_type": "stream",
     "text": [
      "{'train_runtime': 129.9216, 'train_samples_per_second': 107.003, 'train_steps_per_second': 6.696, 'train_loss': 0.32994422474126706, 'epoch': 2.0}\n"
     ]
    },
    {
     "name": "stderr",
     "output_type": "stream",
     "text": [
      "\n"
     ]
    },
    {
     "data": {
      "text/plain": [
       "TrainOutput(global_step=870, training_loss=0.32994422474126706, metrics={'train_runtime': 129.9216, 'train_samples_per_second': 107.003, 'train_steps_per_second': 6.696, 'train_loss': 0.32994422474126706, 'epoch': 2.0})"
      ]
     },
     "execution_count": 33,
     "metadata": {},
     "output_type": "execute_result"
    }
   ],
   "source": [
    "trainer = Trainer(\n",
    "    model=model,\n",
    "    args=training_args,\n",
    "    train_dataset=trainset_tokenized,\n",
    "    eval_dataset=validset_tokenized,\n",
    "    compute_metrics=compute_metrics,\n",
    "    tokenizer=tokenizer,\n",
    ")\n",
    "\n",
    "trainer.train()"
   ]
  },
  {
   "cell_type": "code",
   "execution_count": 34,
   "metadata": {},
   "outputs": [
    {
     "name": "stderr",
     "output_type": "stream",
     "text": [
      "100%|██████████| 435/435 [00:11<00:00, 36.53it/s]\n"
     ]
    },
    {
     "data": {
      "text/plain": [
       "{'eval_accuracy': 0.3247014818011797,\n",
       " 'eval_f1': 0.5461230741171147,\n",
       " 'eval_loss': 0.25963082909584045,\n",
       " 'eval_runtime': 12.1404,\n",
       " 'eval_samples_per_second': 572.55,\n",
       " 'eval_steps_per_second': 35.831,\n",
       " 'epoch': 2.0}"
      ]
     },
     "execution_count": 34,
     "metadata": {},
     "output_type": "execute_result"
    }
   ],
   "source": [
    "trainer.evaluate(trainset_tokenized)"
   ]
  },
  {
   "cell_type": "code",
   "execution_count": 35,
   "metadata": {},
   "outputs": [
    {
     "name": "stderr",
     "output_type": "stream",
     "text": [
      "  0%|          | 0/49 [00:00<?, ?it/s]"
     ]
    },
    {
     "name": "stderr",
     "output_type": "stream",
     "text": [
      "100%|██████████| 49/49 [00:01<00:00, 36.48it/s]\n"
     ]
    },
    {
     "data": {
      "text/plain": [
       "{'eval_accuracy': 0.24967658473479948,\n",
       " 'eval_f1': 0.5009930649448778,\n",
       " 'eval_loss': 0.30975738167762756,\n",
       " 'eval_runtime': 1.3682,\n",
       " 'eval_samples_per_second': 564.958,\n",
       " 'eval_steps_per_second': 35.812,\n",
       " 'epoch': 2.0}"
      ]
     },
     "execution_count": 35,
     "metadata": {},
     "output_type": "execute_result"
    }
   ],
   "source": [
    "trainer.evaluate(validset_tokenized)"
   ]
  },
  {
   "cell_type": "markdown",
   "metadata": {},
   "source": [
    "**Removing emojis is hampering the F1 score, reducing it by pointers**"
   ]
  },
  {
   "cell_type": "markdown",
   "metadata": {},
   "source": [
    "## Removing stop words"
   ]
  },
  {
   "cell_type": "code",
   "execution_count": 92,
   "metadata": {},
   "outputs": [],
   "source": [
    "train = pd.read_csv(data_folder/'train.csv')\n",
    "test = pd.read_csv(data_folder/'test.csv')\n",
    "train.drop(columns=['ID'], inplace=True)"
   ]
  },
  {
   "cell_type": "code",
   "execution_count": 93,
   "metadata": {},
   "outputs": [],
   "source": [
    "train_clean = train['Tweet'].apply(strip_emoji).apply(strip_all_entities).apply(clean_hashtags).apply(filter_chars).apply(remove_mult_spaces).apply(remove_stopwords)\n",
    "train['Tweet'] = train_clean"
   ]
  },
  {
   "cell_type": "code",
   "execution_count": 94,
   "metadata": {},
   "outputs": [],
   "source": [
    "X = train['Tweet'].values\n",
    "y = train.loc[:, train.columns != 'Tweet'].values\n",
    "y = np.array(y, dtype=float)"
   ]
  },
  {
   "cell_type": "code",
   "execution_count": 95,
   "metadata": {},
   "outputs": [],
   "source": [
    "X_train, X_val, y_train, y_val  = train_test_split(X, y, random_state=42,test_size=0.1)"
   ]
  },
  {
   "cell_type": "code",
   "execution_count": 96,
   "metadata": {},
   "outputs": [],
   "source": [
    "trainset = Dataset.from_dict({\n",
    "    'texts': X_train,\n",
    "    'labels': y_train\n",
    "})\n",
    "validset = Dataset.from_dict({\n",
    "    'texts': X_val,\n",
    "    'labels': y_val\n",
    "})"
   ]
  },
  {
   "cell_type": "code",
   "execution_count": 97,
   "metadata": {},
   "outputs": [],
   "source": [
    "id2label = {0: \"anger\", 1: \"anticipation\", 2: \"disgust\", 3: \"fear\", 4: \"joy\", 5: \"love\", 6: \"optimism\", 7: \"pessimism\", 8: \"sadness\", 9: \"surprise\", 10: \"trust\"}\n",
    "label2id = {id2label[k]: k for k in id2label}"
   ]
  },
  {
   "cell_type": "code",
   "execution_count": 98,
   "metadata": {},
   "outputs": [
    {
     "name": "stderr",
     "output_type": "stream",
     "text": [
      "Map:   0%|          | 0/6951 [00:00<?, ? examples/s]"
     ]
    },
    {
     "name": "stderr",
     "output_type": "stream",
     "text": [
      "Map: 100%|██████████| 6951/6951 [00:00<00:00, 48442.62 examples/s]\n",
      "Map: 100%|██████████| 773/773 [00:00<00:00, 54450.44 examples/s]\n"
     ]
    }
   ],
   "source": [
    "trainset_tokenized = trainset.map(tokenize_fn, batched=True)\n",
    "validset_tokenized = validset.map(tokenize_fn, batched=True)\n",
    "trainset_tokenized = trainset_tokenized.remove_columns(['texts'])\n",
    "validset_tokenized = validset_tokenized.remove_columns(['texts'])\n",
    "trainset_tokenized.set_format(type='torch')\n",
    "validset_tokenized.set_format(type='torch')"
   ]
  },
  {
   "cell_type": "code",
   "execution_count": 99,
   "metadata": {},
   "outputs": [
    {
     "name": "stderr",
     "output_type": "stream",
     "text": [
      "Some weights of RobertaForSequenceClassification were not initialized from the model checkpoint at roberta-base and are newly initialized: ['classifier.dense.bias', 'classifier.dense.weight', 'classifier.out_proj.bias', 'classifier.out_proj.weight']\n",
      "You should probably TRAIN this model on a down-stream task to be able to use it for predictions and inference.\n"
     ]
    }
   ],
   "source": [
    "model = AutoModelForSequenceClassification.from_pretrained(\n",
    "    checkpoint, \n",
    "    problem_type=\"multi_label_classification\", \n",
    "    num_labels=len(label2id),\n",
    "    id2label=id2label,\n",
    "    label2id=label2id\n",
    ")"
   ]
  },
  {
   "cell_type": "code",
   "execution_count": 100,
   "metadata": {},
   "outputs": [],
   "source": [
    "training_args = TrainingArguments(\n",
    "    num_train_epochs=2,\n",
    "\n",
    "    per_device_train_batch_size=16,\n",
    "    per_device_eval_batch_size=16,\n",
    "    # weight_decay=0.01,  \n",
    "    # learning_rate=2e-5, \n",
    "    optim='adamw_torch',\n",
    "\n",
    "    # Checkpoint saving and model evaluation settings\n",
    "    output_dir=str(model_folder/'bert'), \n",
    "    evaluation_strategy='steps', \n",
    "    eval_steps=100, \n",
    "    save_strategy=\"steps\", \n",
    "    save_steps=100, \n",
    "    load_best_model_at_end=True, \n",
    "    save_total_limit=2, \n",
    "    metric_for_best_model=\"loss\",\n",
    "    greater_is_better=False, \n",
    ")"
   ]
  },
  {
   "cell_type": "code",
   "execution_count": 101,
   "metadata": {},
   "outputs": [
    {
     "name": "stderr",
     "output_type": "stream",
     "text": [
      "c:\\Users\\shaur\\anaconda3\\envs\\anlp\\lib\\site-packages\\accelerate\\accelerator.py:432: FutureWarning: Passing the following arguments to `Accelerator` is deprecated and will be removed in version 1.0 of Accelerate: dict_keys(['dispatch_batches', 'split_batches', 'even_batches', 'use_seedable_sampler']). Please pass an `accelerate.DataLoaderConfiguration` instead: \n",
      "dataloader_config = DataLoaderConfiguration(dispatch_batches=None, split_batches=False, even_batches=True, use_seedable_sampler=True)\n",
      "  warnings.warn(\n",
      "                                                 \n",
      " 11%|█▏        | 100/870 [00:10<01:14, 10.33it/s]"
     ]
    },
    {
     "name": "stdout",
     "output_type": "stream",
     "text": [
      "{'eval_accuracy': 0.16558861578266496, 'eval_f1': 0.23744765308742324, 'eval_loss': 0.41080501675605774, 'eval_runtime': 1.1622, 'eval_samples_per_second': 665.13, 'eval_steps_per_second': 42.162, 'epoch': 0.23}\n"
     ]
    },
    {
     "name": "stderr",
     "output_type": "stream",
     "text": [
      "                                                 \n",
      " 23%|██▎       | 200/870 [00:24<01:13,  9.08it/s]"
     ]
    },
    {
     "name": "stdout",
     "output_type": "stream",
     "text": [
      "{'eval_accuracy': 0.2069857697283312, 'eval_f1': 0.34546617055990003, 'eval_loss': 0.37135499715805054, 'eval_runtime': 1.4404, 'eval_samples_per_second': 536.642, 'eval_steps_per_second': 34.017, 'epoch': 0.46}\n"
     ]
    },
    {
     "name": "stderr",
     "output_type": "stream",
     "text": [
      "                                                 \n",
      " 34%|███▍      | 300/870 [00:37<01:03,  9.04it/s]"
     ]
    },
    {
     "name": "stdout",
     "output_type": "stream",
     "text": [
      "{'eval_accuracy': 0.222509702457956, 'eval_f1': 0.4146884092335997, 'eval_loss': 0.36068570613861084, 'eval_runtime': 1.4425, 'eval_samples_per_second': 535.865, 'eval_steps_per_second': 33.968, 'epoch': 0.69}\n"
     ]
    },
    {
     "name": "stderr",
     "output_type": "stream",
     "text": [
      "                                                 \n",
      " 46%|████▌     | 400/870 [00:53<00:57,  8.13it/s]"
     ]
    },
    {
     "name": "stdout",
     "output_type": "stream",
     "text": [
      "{'eval_accuracy': 0.23673997412677877, 'eval_f1': 0.3972335375745141, 'eval_loss': 0.34812548756599426, 'eval_runtime': 1.8806, 'eval_samples_per_second': 411.045, 'eval_steps_per_second': 26.056, 'epoch': 0.92}\n"
     ]
    },
    {
     "name": "stderr",
     "output_type": "stream",
     "text": [
      " 57%|█████▋    | 500/870 [01:09<01:02,  5.87it/s]"
     ]
    },
    {
     "name": "stdout",
     "output_type": "stream",
     "text": [
      "{'loss': 0.3806, 'grad_norm': 1.7017905712127686, 'learning_rate': 2.1264367816091954e-05, 'epoch': 1.15}\n"
     ]
    },
    {
     "name": "stderr",
     "output_type": "stream",
     "text": [
      "                                                 \n",
      " 57%|█████▋    | 500/870 [01:12<01:02,  5.87it/s]"
     ]
    },
    {
     "name": "stdout",
     "output_type": "stream",
     "text": [
      "{'eval_accuracy': 0.24579560155239327, 'eval_f1': 0.4639717659332714, 'eval_loss': 0.3503510355949402, 'eval_runtime': 2.4724, 'eval_samples_per_second': 312.656, 'eval_steps_per_second': 19.819, 'epoch': 1.15}\n"
     ]
    },
    {
     "name": "stderr",
     "output_type": "stream",
     "text": [
      "                                                 \n",
      " 69%|██████▉   | 600/870 [01:33<00:53,  5.07it/s]"
     ]
    },
    {
     "name": "stdout",
     "output_type": "stream",
     "text": [
      "{'eval_accuracy': 0.24838292367399742, 'eval_f1': 0.4534053691505701, 'eval_loss': 0.33968839049339294, 'eval_runtime': 2.814, 'eval_samples_per_second': 274.702, 'eval_steps_per_second': 17.413, 'epoch': 1.38}\n"
     ]
    },
    {
     "name": "stderr",
     "output_type": "stream",
     "text": [
      "                                                 \n",
      " 80%|████████  | 700/870 [01:57<00:41,  4.05it/s]"
     ]
    },
    {
     "name": "stdout",
     "output_type": "stream",
     "text": [
      "{'eval_accuracy': 0.2522639068564036, 'eval_f1': 0.4736580302307328, 'eval_loss': 0.336841881275177, 'eval_runtime': 2.5386, 'eval_samples_per_second': 304.501, 'eval_steps_per_second': 19.302, 'epoch': 1.61}\n"
     ]
    },
    {
     "name": "stderr",
     "output_type": "stream",
     "text": [
      "                                                 \n",
      " 92%|█████████▏| 800/870 [02:23<00:14,  4.76it/s]"
     ]
    },
    {
     "name": "stdout",
     "output_type": "stream",
     "text": [
      "{'eval_accuracy': 0.2574385510996119, 'eval_f1': 0.46704453926432643, 'eval_loss': 0.330767422914505, 'eval_runtime': 2.9801, 'eval_samples_per_second': 259.387, 'eval_steps_per_second': 16.442, 'epoch': 1.84}\n"
     ]
    },
    {
     "name": "stderr",
     "output_type": "stream",
     "text": [
      "100%|██████████| 870/870 [02:39<00:00,  5.45it/s]"
     ]
    },
    {
     "name": "stdout",
     "output_type": "stream",
     "text": [
      "{'train_runtime': 159.5121, 'train_samples_per_second': 87.153, 'train_steps_per_second': 5.454, 'train_loss': 0.35024322860542384, 'epoch': 2.0}\n"
     ]
    },
    {
     "name": "stderr",
     "output_type": "stream",
     "text": [
      "\n"
     ]
    },
    {
     "data": {
      "text/plain": [
       "TrainOutput(global_step=870, training_loss=0.35024322860542384, metrics={'train_runtime': 159.5121, 'train_samples_per_second': 87.153, 'train_steps_per_second': 5.454, 'train_loss': 0.35024322860542384, 'epoch': 2.0})"
      ]
     },
     "execution_count": 101,
     "metadata": {},
     "output_type": "execute_result"
    }
   ],
   "source": [
    "trainer = Trainer(\n",
    "    model=model,\n",
    "    args=training_args,\n",
    "    train_dataset=trainset_tokenized,\n",
    "    eval_dataset=validset_tokenized,\n",
    "    compute_metrics=compute_metrics,\n",
    "    tokenizer=tokenizer,\n",
    ")\n",
    "\n",
    "trainer.train()"
   ]
  },
  {
   "cell_type": "code",
   "execution_count": 102,
   "metadata": {},
   "outputs": [
    {
     "name": "stderr",
     "output_type": "stream",
     "text": [
      "  0%|          | 0/435 [00:00<?, ?it/s]"
     ]
    },
    {
     "name": "stderr",
     "output_type": "stream",
     "text": [
      "100%|██████████| 435/435 [00:28<00:00, 15.45it/s]\n"
     ]
    },
    {
     "data": {
      "text/plain": [
       "{'eval_accuracy': 0.29204431017119836,\n",
       " 'eval_f1': 0.4931041103350157,\n",
       " 'eval_loss': 0.2798886001110077,\n",
       " 'eval_runtime': 28.1913,\n",
       " 'eval_samples_per_second': 246.565,\n",
       " 'eval_steps_per_second': 15.43,\n",
       " 'epoch': 2.0}"
      ]
     },
     "execution_count": 102,
     "metadata": {},
     "output_type": "execute_result"
    }
   ],
   "source": [
    "trainer.evaluate(trainset_tokenized)"
   ]
  },
  {
   "cell_type": "code",
   "execution_count": 103,
   "metadata": {},
   "outputs": [
    {
     "name": "stderr",
     "output_type": "stream",
     "text": [
      "  0%|          | 0/49 [00:00<?, ?it/s]"
     ]
    },
    {
     "name": "stderr",
     "output_type": "stream",
     "text": [
      "100%|██████████| 49/49 [00:02<00:00, 21.52it/s]\n"
     ]
    },
    {
     "data": {
      "text/plain": [
       "{'eval_accuracy': 0.2574385510996119,\n",
       " 'eval_f1': 0.46704453926432643,\n",
       " 'eval_loss': 0.330767422914505,\n",
       " 'eval_runtime': 2.3082,\n",
       " 'eval_samples_per_second': 334.899,\n",
       " 'eval_steps_per_second': 21.229,\n",
       " 'epoch': 2.0}"
      ]
     },
     "execution_count": 103,
     "metadata": {},
     "output_type": "execute_result"
    }
   ],
   "source": [
    "trainer.evaluate(validset_tokenized)"
   ]
  },
  {
   "cell_type": "markdown",
   "metadata": {},
   "source": [
    "**Stopwords hold significance importance and cannot be removed**"
   ]
  },
  {
   "cell_type": "markdown",
   "metadata": {},
   "source": [
    "## Lemmatization of tweet"
   ]
  },
  {
   "cell_type": "code",
   "execution_count": 78,
   "metadata": {},
   "outputs": [],
   "source": [
    "train = pd.read_csv(data_folder/'train.csv')\n",
    "test = pd.read_csv(data_folder/'test.csv')\n",
    "train.drop(columns=['ID'], inplace=True)"
   ]
  },
  {
   "cell_type": "code",
   "execution_count": 79,
   "metadata": {},
   "outputs": [],
   "source": [
    "def lemmatize_text(text):\n",
    "    lemmatizer = WordNetLemmatizer()\n",
    "    word_tokens = word_tokenize(text)\n",
    "    lemmatized_text = [lemmatizer.lemmatize(word) for word in word_tokens]\n",
    "    return ' '.join(lemmatized_text)"
   ]
  },
  {
   "cell_type": "code",
   "execution_count": 80,
   "metadata": {},
   "outputs": [],
   "source": [
    "train_clean = train['Tweet'].apply(strip_emoji).apply(strip_all_entities).apply(clean_hashtags).apply(filter_chars).apply(remove_mult_spaces).apply(lemmatize_text)\n",
    "train['Tweet'] = train_clean"
   ]
  },
  {
   "cell_type": "code",
   "execution_count": 81,
   "metadata": {},
   "outputs": [],
   "source": [
    "X = train['Tweet'].values\n",
    "y = train.loc[:, train.columns != 'Tweet'].values\n",
    "y = np.array(y, dtype=float)"
   ]
  },
  {
   "cell_type": "code",
   "execution_count": 82,
   "metadata": {},
   "outputs": [],
   "source": [
    "X_train, X_val, y_train, y_val  = train_test_split(X, y, random_state=42,test_size=0.1)"
   ]
  },
  {
   "cell_type": "code",
   "execution_count": 83,
   "metadata": {},
   "outputs": [],
   "source": [
    "trainset = Dataset.from_dict({\n",
    "    'texts': X_train,\n",
    "    'labels': y_train\n",
    "})\n",
    "validset = Dataset.from_dict({\n",
    "    'texts': X_val,\n",
    "    'labels': y_val\n",
    "})"
   ]
  },
  {
   "cell_type": "code",
   "execution_count": 84,
   "metadata": {},
   "outputs": [],
   "source": [
    "checkpoint = \"roberta-base\"\n",
    "tokenizer = AutoTokenizer.from_pretrained(checkpoint)"
   ]
  },
  {
   "cell_type": "code",
   "execution_count": 85,
   "metadata": {},
   "outputs": [],
   "source": [
    "def tokenize_fn(batch):\n",
    "    return tokenizer(text = batch[\"texts\"], truncation=True)"
   ]
  },
  {
   "cell_type": "code",
   "execution_count": 86,
   "metadata": {},
   "outputs": [
    {
     "name": "stderr",
     "output_type": "stream",
     "text": [
      "Map:   0%|          | 0/6951 [00:00<?, ? examples/s]"
     ]
    },
    {
     "name": "stderr",
     "output_type": "stream",
     "text": [
      "Map: 100%|██████████| 6951/6951 [00:00<00:00, 57130.16 examples/s]\n",
      "Map: 100%|██████████| 773/773 [00:00<00:00, 46061.13 examples/s]\n"
     ]
    }
   ],
   "source": [
    "trainset_tokenized = trainset.map(tokenize_fn, batched=True)\n",
    "validset_tokenized = validset.map(tokenize_fn, batched=True)\n",
    "trainset_tokenized = trainset_tokenized.remove_columns(['texts'])\n",
    "validset_tokenized = validset_tokenized.remove_columns(['texts'])\n",
    "trainset_tokenized.set_format(type='torch')\n",
    "validset_tokenized.set_format(type='torch')"
   ]
  },
  {
   "cell_type": "code",
   "execution_count": 87,
   "metadata": {},
   "outputs": [
    {
     "name": "stderr",
     "output_type": "stream",
     "text": [
      "Some weights of RobertaForSequenceClassification were not initialized from the model checkpoint at roberta-base and are newly initialized: ['classifier.dense.bias', 'classifier.dense.weight', 'classifier.out_proj.bias', 'classifier.out_proj.weight']\n",
      "You should probably TRAIN this model on a down-stream task to be able to use it for predictions and inference.\n"
     ]
    }
   ],
   "source": [
    "model = AutoModelForSequenceClassification.from_pretrained(\n",
    "    checkpoint, \n",
    "    problem_type=\"multi_label_classification\", \n",
    "    num_labels=len(label2id),\n",
    "    id2label=id2label,\n",
    "    label2id=label2id\n",
    ")"
   ]
  },
  {
   "cell_type": "code",
   "execution_count": 88,
   "metadata": {},
   "outputs": [],
   "source": [
    "training_args = TrainingArguments(\n",
    "    num_train_epochs=2,\n",
    "\n",
    "    per_device_train_batch_size=16,\n",
    "    per_device_eval_batch_size=16,\n",
    "    # weight_decay=0.01,  \n",
    "    # learning_rate=2e-5, \n",
    "    optim='adamw_torch',\n",
    "\n",
    "    # Checkpoint saving and model evaluation settings\n",
    "    output_dir=str(model_folder/'bert'), \n",
    "    evaluation_strategy='steps', \n",
    "    eval_steps=100, \n",
    "    save_strategy=\"steps\", \n",
    "    save_steps=100, \n",
    "    load_best_model_at_end=True, \n",
    "    save_total_limit=2, \n",
    "    metric_for_best_model=\"loss\",\n",
    "    greater_is_better=False, \n",
    ")"
   ]
  },
  {
   "cell_type": "code",
   "execution_count": 89,
   "metadata": {},
   "outputs": [
    {
     "name": "stderr",
     "output_type": "stream",
     "text": [
      "c:\\Users\\shaur\\anaconda3\\envs\\anlp\\lib\\site-packages\\accelerate\\accelerator.py:432: FutureWarning: Passing the following arguments to `Accelerator` is deprecated and will be removed in version 1.0 of Accelerate: dict_keys(['dispatch_batches', 'split_batches', 'even_batches', 'use_seedable_sampler']). Please pass an `accelerate.DataLoaderConfiguration` instead: \n",
      "dataloader_config = DataLoaderConfiguration(dispatch_batches=None, split_batches=False, even_batches=True, use_seedable_sampler=True)\n",
      "  warnings.warn(\n",
      "                                                 \n",
      " 11%|█▏        | 100/870 [00:11<01:24,  9.09it/s]"
     ]
    },
    {
     "name": "stdout",
     "output_type": "stream",
     "text": [
      "{'eval_accuracy': 0.1539456662354463, 'eval_f1': 0.23413255166458785, 'eval_loss': 0.41092032194137573, 'eval_runtime': 1.4333, 'eval_samples_per_second': 539.302, 'eval_steps_per_second': 34.186, 'epoch': 0.23}\n"
     ]
    },
    {
     "name": "stderr",
     "output_type": "stream",
     "text": [
      "                                                 \n",
      " 23%|██▎       | 200/870 [00:25<01:08,  9.73it/s]"
     ]
    },
    {
     "name": "stdout",
     "output_type": "stream",
     "text": [
      "{'eval_accuracy': 0.17852522639068563, 'eval_f1': 0.3406685731041113, 'eval_loss': 0.3682655990123749, 'eval_runtime': 1.2861, 'eval_samples_per_second': 601.024, 'eval_steps_per_second': 38.099, 'epoch': 0.46}\n"
     ]
    },
    {
     "name": "stderr",
     "output_type": "stream",
     "text": [
      "                                                 \n",
      " 34%|███▍      | 300/870 [00:38<00:57,  9.83it/s]"
     ]
    },
    {
     "name": "stdout",
     "output_type": "stream",
     "text": [
      "{'eval_accuracy': 0.22509702457956016, 'eval_f1': 0.40611862240352264, 'eval_loss': 0.35584375262260437, 'eval_runtime': 1.3324, 'eval_samples_per_second': 580.151, 'eval_steps_per_second': 36.775, 'epoch': 0.69}\n"
     ]
    },
    {
     "name": "stderr",
     "output_type": "stream",
     "text": [
      "                                                 \n",
      " 46%|████▌     | 400/870 [00:51<00:48,  9.78it/s]"
     ]
    },
    {
     "name": "stdout",
     "output_type": "stream",
     "text": [
      "{'eval_accuracy': 0.21733505821474774, 'eval_f1': 0.39981067229774536, 'eval_loss': 0.3332134187221527, 'eval_runtime': 1.3176, 'eval_samples_per_second': 586.653, 'eval_steps_per_second': 37.188, 'epoch': 0.92}\n"
     ]
    },
    {
     "name": "stderr",
     "output_type": "stream",
     "text": [
      " 57%|█████▋    | 500/870 [01:03<00:38,  9.61it/s]"
     ]
    },
    {
     "name": "stdout",
     "output_type": "stream",
     "text": [
      "{'loss': 0.3725, 'grad_norm': 2.6548638343811035, 'learning_rate': 2.1264367816091954e-05, 'epoch': 1.15}\n"
     ]
    },
    {
     "name": "stderr",
     "output_type": "stream",
     "text": [
      "                                                 \n",
      " 57%|█████▋    | 500/870 [01:05<00:38,  9.61it/s]"
     ]
    },
    {
     "name": "stdout",
     "output_type": "stream",
     "text": [
      "{'eval_accuracy': 0.24191461836998707, 'eval_f1': 0.47290957215928875, 'eval_loss': 0.33010977506637573, 'eval_runtime': 1.3174, 'eval_samples_per_second': 586.749, 'eval_steps_per_second': 37.194, 'epoch': 1.15}\n"
     ]
    },
    {
     "name": "stderr",
     "output_type": "stream",
     "text": [
      "                                                 \n",
      " 69%|██████▉   | 600/870 [01:18<00:27,  9.71it/s]"
     ]
    },
    {
     "name": "stdout",
     "output_type": "stream",
     "text": [
      "{'eval_accuracy': 0.2652005174644243, 'eval_f1': 0.46419339796080583, 'eval_loss': 0.3233594000339508, 'eval_runtime': 1.3428, 'eval_samples_per_second': 575.679, 'eval_steps_per_second': 36.492, 'epoch': 1.38}\n"
     ]
    },
    {
     "name": "stderr",
     "output_type": "stream",
     "text": [
      "                                                 \n",
      " 80%|████████  | 700/870 [01:32<00:19,  8.60it/s]"
     ]
    },
    {
     "name": "stdout",
     "output_type": "stream",
     "text": [
      "{'eval_accuracy': 0.2652005174644243, 'eval_f1': 0.49095985064781844, 'eval_loss': 0.31433409452438354, 'eval_runtime': 1.387, 'eval_samples_per_second': 557.322, 'eval_steps_per_second': 35.328, 'epoch': 1.61}\n"
     ]
    },
    {
     "name": "stderr",
     "output_type": "stream",
     "text": [
      "                                                 \n",
      " 92%|█████████▏| 800/870 [01:48<00:08,  7.89it/s]"
     ]
    },
    {
     "name": "stdout",
     "output_type": "stream",
     "text": [
      "{'eval_accuracy': 0.2535575679172057, 'eval_f1': 0.4832264057958477, 'eval_loss': 0.3138663172721863, 'eval_runtime': 1.7262, 'eval_samples_per_second': 447.805, 'eval_steps_per_second': 28.386, 'epoch': 1.84}\n"
     ]
    },
    {
     "name": "stderr",
     "output_type": "stream",
     "text": [
      "100%|██████████| 870/870 [01:58<00:00,  7.31it/s]"
     ]
    },
    {
     "name": "stdout",
     "output_type": "stream",
     "text": [
      "{'train_runtime': 118.9673, 'train_samples_per_second': 116.856, 'train_steps_per_second': 7.313, 'train_loss': 0.33815029626605153, 'epoch': 2.0}\n"
     ]
    },
    {
     "name": "stderr",
     "output_type": "stream",
     "text": [
      "\n"
     ]
    },
    {
     "data": {
      "text/plain": [
       "TrainOutput(global_step=870, training_loss=0.33815029626605153, metrics={'train_runtime': 118.9673, 'train_samples_per_second': 116.856, 'train_steps_per_second': 7.313, 'train_loss': 0.33815029626605153, 'epoch': 2.0})"
      ]
     },
     "execution_count": 89,
     "metadata": {},
     "output_type": "execute_result"
    }
   ],
   "source": [
    "trainer = Trainer(\n",
    "    model=model,\n",
    "    args=training_args,\n",
    "    train_dataset=trainset_tokenized,\n",
    "    eval_dataset=validset_tokenized,\n",
    "    compute_metrics=compute_metrics,\n",
    "    tokenizer=tokenizer,\n",
    ")\n",
    "\n",
    "trainer.train()"
   ]
  },
  {
   "cell_type": "code",
   "execution_count": 90,
   "metadata": {},
   "outputs": [
    {
     "name": "stderr",
     "output_type": "stream",
     "text": [
      "  0%|          | 0/435 [00:00<?, ?it/s]"
     ]
    },
    {
     "name": "stderr",
     "output_type": "stream",
     "text": [
      "100%|██████████| 435/435 [00:16<00:00, 27.05it/s]\n"
     ]
    },
    {
     "data": {
      "text/plain": [
       "{'eval_accuracy': 0.3190907783052798,\n",
       " 'eval_f1': 0.5306093616189786,\n",
       " 'eval_loss': 0.26003333926200867,\n",
       " 'eval_runtime': 16.1211,\n",
       " 'eval_samples_per_second': 431.174,\n",
       " 'eval_steps_per_second': 26.983,\n",
       " 'epoch': 2.0}"
      ]
     },
     "execution_count": 90,
     "metadata": {},
     "output_type": "execute_result"
    }
   ],
   "source": [
    "trainer.evaluate(trainset_tokenized)"
   ]
  },
  {
   "cell_type": "code",
   "execution_count": 91,
   "metadata": {},
   "outputs": [
    {
     "name": "stderr",
     "output_type": "stream",
     "text": [
      "  0%|          | 0/49 [00:00<?, ?it/s]"
     ]
    },
    {
     "name": "stderr",
     "output_type": "stream",
     "text": [
      "100%|██████████| 49/49 [00:01<00:00, 26.48it/s]\n"
     ]
    },
    {
     "data": {
      "text/plain": [
       "{'eval_accuracy': 0.2535575679172057,\n",
       " 'eval_f1': 0.4832264057958477,\n",
       " 'eval_loss': 0.3138663172721863,\n",
       " 'eval_runtime': 1.888,\n",
       " 'eval_samples_per_second': 409.436,\n",
       " 'eval_steps_per_second': 25.954,\n",
       " 'epoch': 2.0}"
      ]
     },
     "execution_count": 91,
     "metadata": {},
     "output_type": "execute_result"
    }
   ],
   "source": [
    "trainer.evaluate(validset_tokenized)"
   ]
  },
  {
   "cell_type": "markdown",
   "metadata": {},
   "source": [
    "**No improvement after Lemmatization**"
   ]
  },
  {
   "cell_type": "markdown",
   "metadata": {},
   "source": [
    "## Replacing emoji with keyword"
   ]
  },
  {
   "cell_type": "code",
   "execution_count": 9,
   "metadata": {},
   "outputs": [],
   "source": [
    "def handle_emojis(tweet):\n",
    "    tweet = emoji.demojize(tweet)  # Convert emojis to text\n",
    "    return tweet\n"
   ]
  },
  {
   "cell_type": "code",
   "execution_count": 105,
   "metadata": {},
   "outputs": [],
   "source": [
    "train = pd.read_csv(data_folder/'train.csv')\n",
    "test = pd.read_csv(data_folder/'test.csv')\n",
    "train.drop(columns=['ID'], inplace=True)"
   ]
  },
  {
   "cell_type": "code",
   "execution_count": 106,
   "metadata": {},
   "outputs": [],
   "source": [
    "train_clean = train['Tweet'].apply(handle_emojis).apply(strip_all_entities).apply(clean_hashtags).apply(filter_chars).apply(remove_mult_spaces)\n",
    "train['Tweet'] = train_clean"
   ]
  },
  {
   "cell_type": "code",
   "execution_count": 107,
   "metadata": {},
   "outputs": [],
   "source": [
    "X = train['Tweet'].values\n",
    "y = train.loc[:, train.columns != 'Tweet'].values\n",
    "y = np.array(y, dtype=float)"
   ]
  },
  {
   "cell_type": "code",
   "execution_count": 108,
   "metadata": {},
   "outputs": [],
   "source": [
    "X_train, X_val, y_train, y_val  = train_test_split(X, y, random_state=42,test_size=0.1)"
   ]
  },
  {
   "cell_type": "code",
   "execution_count": 109,
   "metadata": {},
   "outputs": [],
   "source": [
    "trainset = Dataset.from_dict({\n",
    "    'texts': X_train,\n",
    "    'labels': y_train\n",
    "})\n",
    "validset = Dataset.from_dict({\n",
    "    'texts': X_val,\n",
    "    'labels': y_val\n",
    "})"
   ]
  },
  {
   "cell_type": "code",
   "execution_count": 111,
   "metadata": {},
   "outputs": [],
   "source": [
    "checkpoint = \"roberta-base\"\n",
    "tokenizer = AutoTokenizer.from_pretrained(checkpoint)"
   ]
  },
  {
   "cell_type": "code",
   "execution_count": 112,
   "metadata": {},
   "outputs": [],
   "source": [
    "def tokenize_fn(batch):\n",
    "    return tokenizer(text = batch[\"texts\"], truncation=True)"
   ]
  },
  {
   "cell_type": "code",
   "execution_count": 113,
   "metadata": {},
   "outputs": [
    {
     "name": "stderr",
     "output_type": "stream",
     "text": [
      "Map: 100%|██████████| 6951/6951 [00:00<00:00, 45727.98 examples/s]\n",
      "Map: 100%|██████████| 773/773 [00:00<00:00, 39053.20 examples/s]\n"
     ]
    }
   ],
   "source": [
    "trainset_tokenized = trainset.map(tokenize_fn, batched=True)\n",
    "validset_tokenized = validset.map(tokenize_fn, batched=True)\n",
    "trainset_tokenized = trainset_tokenized.remove_columns(['texts'])\n",
    "validset_tokenized = validset_tokenized.remove_columns(['texts'])\n",
    "trainset_tokenized.set_format(type='torch')\n",
    "validset_tokenized.set_format(type='torch')"
   ]
  },
  {
   "cell_type": "code",
   "execution_count": 114,
   "metadata": {},
   "outputs": [
    {
     "name": "stderr",
     "output_type": "stream",
     "text": [
      "Some weights of RobertaForSequenceClassification were not initialized from the model checkpoint at roberta-base and are newly initialized: ['classifier.dense.bias', 'classifier.dense.weight', 'classifier.out_proj.bias', 'classifier.out_proj.weight']\n",
      "You should probably TRAIN this model on a down-stream task to be able to use it for predictions and inference.\n"
     ]
    }
   ],
   "source": [
    "model = AutoModelForSequenceClassification.from_pretrained(\n",
    "    checkpoint, \n",
    "    problem_type=\"multi_label_classification\", \n",
    "    num_labels=len(label2id),\n",
    "    id2label=id2label,\n",
    "    label2id=label2id\n",
    ")"
   ]
  },
  {
   "cell_type": "code",
   "execution_count": 115,
   "metadata": {},
   "outputs": [],
   "source": [
    "training_args = TrainingArguments(\n",
    "    num_train_epochs=2,\n",
    "\n",
    "    per_device_train_batch_size=16,\n",
    "    per_device_eval_batch_size=16,\n",
    "    # weight_decay=0.01,  \n",
    "    # learning_rate=2e-5, \n",
    "    optim='adamw_torch',\n",
    "\n",
    "    # Checkpoint saving and model evaluation settings\n",
    "    output_dir=str(model_folder/'bert'), \n",
    "    evaluation_strategy='steps', \n",
    "    eval_steps=100, \n",
    "    save_strategy=\"steps\", \n",
    "    save_steps=100, \n",
    "    load_best_model_at_end=True, \n",
    "    save_total_limit=2, \n",
    "    metric_for_best_model=\"loss\",\n",
    "    greater_is_better=False, \n",
    ")"
   ]
  },
  {
   "cell_type": "code",
   "execution_count": 116,
   "metadata": {},
   "outputs": [
    {
     "name": "stderr",
     "output_type": "stream",
     "text": [
      "c:\\Users\\shaur\\anaconda3\\envs\\anlp\\lib\\site-packages\\accelerate\\accelerator.py:432: FutureWarning: Passing the following arguments to `Accelerator` is deprecated and will be removed in version 1.0 of Accelerate: dict_keys(['dispatch_batches', 'split_batches', 'even_batches', 'use_seedable_sampler']). Please pass an `accelerate.DataLoaderConfiguration` instead: \n",
      "dataloader_config = DataLoaderConfiguration(dispatch_batches=None, split_batches=False, even_batches=True, use_seedable_sampler=True)\n",
      "  warnings.warn(\n",
      "                                                 \n",
      " 11%|█▏        | 100/870 [00:13<01:30,  8.53it/s]"
     ]
    },
    {
     "name": "stdout",
     "output_type": "stream",
     "text": [
      "{'eval_accuracy': 0.1423027166882277, 'eval_f1': 0.21779758881307265, 'eval_loss': 0.4232868254184723, 'eval_runtime': 1.6952, 'eval_samples_per_second': 455.994, 'eval_steps_per_second': 28.905, 'epoch': 0.23}\n"
     ]
    },
    {
     "name": "stderr",
     "output_type": "stream",
     "text": [
      "                                                 \n",
      " 23%|██▎       | 200/870 [00:30<01:35,  7.04it/s]"
     ]
    },
    {
     "name": "stdout",
     "output_type": "stream",
     "text": [
      "{'eval_accuracy': 0.16558861578266496, 'eval_f1': 0.24547601463438537, 'eval_loss': 0.3994767665863037, 'eval_runtime': 1.8185, 'eval_samples_per_second': 425.077, 'eval_steps_per_second': 26.945, 'epoch': 0.46}\n"
     ]
    },
    {
     "name": "stderr",
     "output_type": "stream",
     "text": [
      "                                                 \n",
      " 34%|███▍      | 300/870 [00:50<02:10,  4.38it/s]"
     ]
    },
    {
     "name": "stdout",
     "output_type": "stream",
     "text": [
      "{'eval_accuracy': 0.16041397153945666, 'eval_f1': 0.3309585803145343, 'eval_loss': 0.38502177596092224, 'eval_runtime': 3.0256, 'eval_samples_per_second': 255.483, 'eval_steps_per_second': 16.195, 'epoch': 0.69}\n"
     ]
    },
    {
     "name": "stderr",
     "output_type": "stream",
     "text": [
      "                                                 \n",
      " 46%|████▌     | 400/870 [01:21<02:18,  3.39it/s]"
     ]
    },
    {
     "name": "stdout",
     "output_type": "stream",
     "text": [
      "{'eval_accuracy': 0.19146183699870634, 'eval_f1': 0.297757752653871, 'eval_loss': 0.362663596868515, 'eval_runtime': 4.2771, 'eval_samples_per_second': 180.73, 'eval_steps_per_second': 11.456, 'epoch': 0.92}\n"
     ]
    },
    {
     "name": "stderr",
     "output_type": "stream",
     "text": [
      " 57%|█████▋    | 500/870 [01:53<02:13,  2.78it/s]"
     ]
    },
    {
     "name": "stdout",
     "output_type": "stream",
     "text": [
      "{'loss': 0.3939, 'grad_norm': 3.2545278072357178, 'learning_rate': 2.1264367816091954e-05, 'epoch': 1.15}\n"
     ]
    },
    {
     "name": "stderr",
     "output_type": "stream",
     "text": [
      "                                                 \n",
      " 57%|█████▋    | 500/870 [01:57<02:13,  2.78it/s]"
     ]
    },
    {
     "name": "stdout",
     "output_type": "stream",
     "text": [
      "{'eval_accuracy': 0.2522639068564036, 'eval_f1': 0.4225142952075869, 'eval_loss': 0.34430065751075745, 'eval_runtime': 4.4333, 'eval_samples_per_second': 174.36, 'eval_steps_per_second': 11.053, 'epoch': 1.15}\n"
     ]
    },
    {
     "name": "stderr",
     "output_type": "stream",
     "text": [
      "                                                 \n",
      " 69%|██████▉   | 600/870 [02:36<01:07,  4.02it/s]"
     ]
    },
    {
     "name": "stdout",
     "output_type": "stream",
     "text": [
      "{'eval_accuracy': 0.240620957309185, 'eval_f1': 0.4310515861739409, 'eval_loss': 0.3388911783695221, 'eval_runtime': 3.5246, 'eval_samples_per_second': 219.315, 'eval_steps_per_second': 13.902, 'epoch': 1.38}\n"
     ]
    },
    {
     "name": "stderr",
     "output_type": "stream",
     "text": [
      "                                                 \n",
      " 80%|████████  | 700/870 [02:52<00:19,  8.52it/s]"
     ]
    },
    {
     "name": "stdout",
     "output_type": "stream",
     "text": [
      "{'eval_accuracy': 0.2445019404915912, 'eval_f1': 0.4382293374115836, 'eval_loss': 0.3289234936237335, 'eval_runtime': 1.4931, 'eval_samples_per_second': 517.718, 'eval_steps_per_second': 32.818, 'epoch': 1.61}\n"
     ]
    },
    {
     "name": "stderr",
     "output_type": "stream",
     "text": [
      "                                                 \n",
      " 92%|█████████▏| 800/870 [03:07<00:08,  8.67it/s]"
     ]
    },
    {
     "name": "stdout",
     "output_type": "stream",
     "text": [
      "{'eval_accuracy': 0.24320827943078913, 'eval_f1': 0.4325906812186323, 'eval_loss': 0.32528001070022583, 'eval_runtime': 1.4717, 'eval_samples_per_second': 525.242, 'eval_steps_per_second': 33.295, 'epoch': 1.84}\n"
     ]
    },
    {
     "name": "stderr",
     "output_type": "stream",
     "text": [
      "100%|██████████| 870/870 [03:17<00:00,  4.39it/s]"
     ]
    },
    {
     "name": "stdout",
     "output_type": "stream",
     "text": [
      "{'train_runtime': 197.9664, 'train_samples_per_second': 70.224, 'train_steps_per_second': 4.395, 'train_loss': 0.3577459401097791, 'epoch': 2.0}\n"
     ]
    },
    {
     "name": "stderr",
     "output_type": "stream",
     "text": [
      "\n"
     ]
    },
    {
     "data": {
      "text/plain": [
       "TrainOutput(global_step=870, training_loss=0.3577459401097791, metrics={'train_runtime': 197.9664, 'train_samples_per_second': 70.224, 'train_steps_per_second': 4.395, 'train_loss': 0.3577459401097791, 'epoch': 2.0})"
      ]
     },
     "execution_count": 116,
     "metadata": {},
     "output_type": "execute_result"
    }
   ],
   "source": [
    "trainer = Trainer(\n",
    "    model=model,\n",
    "    args=training_args,\n",
    "    train_dataset=trainset_tokenized,\n",
    "    eval_dataset=validset_tokenized,\n",
    "    compute_metrics=compute_metrics,\n",
    "    tokenizer=tokenizer,\n",
    ")\n",
    "\n",
    "trainer.train()"
   ]
  },
  {
   "cell_type": "code",
   "execution_count": 117,
   "metadata": {},
   "outputs": [
    {
     "name": "stderr",
     "output_type": "stream",
     "text": [
      "100%|██████████| 435/435 [00:13<00:00, 32.95it/s]\n"
     ]
    },
    {
     "data": {
      "text/plain": [
       "{'eval_accuracy': 0.2904618040569702,\n",
       " 'eval_f1': 0.474235714106922,\n",
       " 'eval_loss': 0.2800021171569824,\n",
       " 'eval_runtime': 13.232,\n",
       " 'eval_samples_per_second': 525.319,\n",
       " 'eval_steps_per_second': 32.875,\n",
       " 'epoch': 2.0}"
      ]
     },
     "execution_count": 117,
     "metadata": {},
     "output_type": "execute_result"
    }
   ],
   "source": [
    "trainer.evaluate(trainset_tokenized)"
   ]
  },
  {
   "cell_type": "code",
   "execution_count": 118,
   "metadata": {},
   "outputs": [
    {
     "name": "stderr",
     "output_type": "stream",
     "text": [
      "100%|██████████| 49/49 [00:01<00:00, 32.15it/s]\n"
     ]
    },
    {
     "data": {
      "text/plain": [
       "{'eval_accuracy': 0.24320827943078913,\n",
       " 'eval_f1': 0.4325906812186323,\n",
       " 'eval_loss': 0.32528001070022583,\n",
       " 'eval_runtime': 1.549,\n",
       " 'eval_samples_per_second': 499.029,\n",
       " 'eval_steps_per_second': 31.633,\n",
       " 'epoch': 2.0}"
      ]
     },
     "execution_count": 118,
     "metadata": {},
     "output_type": "execute_result"
    }
   ],
   "source": [
    "trainer.evaluate(validset_tokenized)"
   ]
  },
  {
   "cell_type": "markdown",
   "metadata": {},
   "source": [
    "## Remove numbers"
   ]
  },
  {
   "cell_type": "code",
   "execution_count": 10,
   "metadata": {},
   "outputs": [],
   "source": [
    "def handle_numerical_data(tweet):\n",
    "    tweet = re.sub(r\"\\d+\", \"\", tweet)  # Replace numbers with NUM token\n",
    "    return tweet"
   ]
  },
  {
   "cell_type": "code",
   "execution_count": 122,
   "metadata": {},
   "outputs": [],
   "source": [
    "train = pd.read_csv(data_folder/'train.csv')\n",
    "test = pd.read_csv(data_folder/'test.csv')\n",
    "train.drop(columns=['ID'], inplace=True)"
   ]
  },
  {
   "cell_type": "code",
   "execution_count": 123,
   "metadata": {},
   "outputs": [],
   "source": [
    "train_clean = train['Tweet'].apply(strip_emoji).apply(strip_all_entities).apply(clean_hashtags).apply(filter_chars).apply(remove_mult_spaces).apply(handle_numerical_data)\n",
    "train['Tweet'] = train_clean"
   ]
  },
  {
   "cell_type": "code",
   "execution_count": 124,
   "metadata": {},
   "outputs": [],
   "source": [
    "X = train['Tweet'].values\n",
    "y = train.loc[:, train.columns != 'Tweet'].values\n",
    "y = np.array(y, dtype=float)"
   ]
  },
  {
   "cell_type": "code",
   "execution_count": 125,
   "metadata": {},
   "outputs": [],
   "source": [
    "X_train, X_val, y_train, y_val  = train_test_split(X, y, random_state=42,test_size=0.1)"
   ]
  },
  {
   "cell_type": "code",
   "execution_count": 126,
   "metadata": {},
   "outputs": [],
   "source": [
    "trainset = Dataset.from_dict({\n",
    "    'texts': X_train,\n",
    "    'labels': y_train\n",
    "})\n",
    "validset = Dataset.from_dict({\n",
    "    'texts': X_val,\n",
    "    'labels': y_val\n",
    "})"
   ]
  },
  {
   "cell_type": "code",
   "execution_count": 127,
   "metadata": {},
   "outputs": [],
   "source": [
    "checkpoint = \"roberta-base\"\n",
    "tokenizer = AutoTokenizer.from_pretrained(checkpoint)"
   ]
  },
  {
   "cell_type": "code",
   "execution_count": 128,
   "metadata": {},
   "outputs": [],
   "source": [
    "def tokenize_fn(batch):\n",
    "    return tokenizer(text = batch[\"texts\"], truncation=True)"
   ]
  },
  {
   "cell_type": "code",
   "execution_count": 129,
   "metadata": {},
   "outputs": [
    {
     "name": "stderr",
     "output_type": "stream",
     "text": [
      "Map: 100%|██████████| 6951/6951 [00:00<00:00, 49303.11 examples/s]\n",
      "Map: 100%|██████████| 773/773 [00:00<00:00, 62413.56 examples/s]\n"
     ]
    }
   ],
   "source": [
    "trainset_tokenized = trainset.map(tokenize_fn, batched=True)\n",
    "validset_tokenized = validset.map(tokenize_fn, batched=True)\n",
    "trainset_tokenized = trainset_tokenized.remove_columns(['texts'])\n",
    "validset_tokenized = validset_tokenized.remove_columns(['texts'])\n",
    "trainset_tokenized.set_format(type='torch')\n",
    "validset_tokenized.set_format(type='torch')"
   ]
  },
  {
   "cell_type": "code",
   "execution_count": 130,
   "metadata": {},
   "outputs": [
    {
     "name": "stderr",
     "output_type": "stream",
     "text": [
      "Some weights of RobertaForSequenceClassification were not initialized from the model checkpoint at roberta-base and are newly initialized: ['classifier.dense.bias', 'classifier.dense.weight', 'classifier.out_proj.bias', 'classifier.out_proj.weight']\n",
      "You should probably TRAIN this model on a down-stream task to be able to use it for predictions and inference.\n"
     ]
    }
   ],
   "source": [
    "model = AutoModelForSequenceClassification.from_pretrained(\n",
    "    checkpoint, \n",
    "    problem_type=\"multi_label_classification\", \n",
    "    num_labels=len(label2id),\n",
    "    id2label=id2label,\n",
    "    label2id=label2id\n",
    ")"
   ]
  },
  {
   "cell_type": "code",
   "execution_count": 131,
   "metadata": {},
   "outputs": [],
   "source": [
    "training_args = TrainingArguments(\n",
    "    num_train_epochs=2,\n",
    "\n",
    "    per_device_train_batch_size=16,\n",
    "    per_device_eval_batch_size=16,\n",
    "    # weight_decay=0.01,  \n",
    "    # learning_rate=2e-5, \n",
    "    optim='adamw_torch',\n",
    "\n",
    "    # Checkpoint saving and model evaluation settings\n",
    "    output_dir=str(model_folder/'bert'), \n",
    "    evaluation_strategy='steps', \n",
    "    eval_steps=100, \n",
    "    save_strategy=\"steps\", \n",
    "    save_steps=100, \n",
    "    load_best_model_at_end=True, \n",
    "    save_total_limit=2, \n",
    "    metric_for_best_model=\"loss\",\n",
    "    greater_is_better=False, \n",
    ")"
   ]
  },
  {
   "cell_type": "code",
   "execution_count": 132,
   "metadata": {},
   "outputs": [
    {
     "name": "stderr",
     "output_type": "stream",
     "text": [
      "c:\\Users\\shaur\\anaconda3\\envs\\anlp\\lib\\site-packages\\accelerate\\accelerator.py:432: FutureWarning: Passing the following arguments to `Accelerator` is deprecated and will be removed in version 1.0 of Accelerate: dict_keys(['dispatch_batches', 'split_batches', 'even_batches', 'use_seedable_sampler']). Please pass an `accelerate.DataLoaderConfiguration` instead: \n",
      "dataloader_config = DataLoaderConfiguration(dispatch_batches=None, split_batches=False, even_batches=True, use_seedable_sampler=True)\n",
      "  warnings.warn(\n",
      "                                                 \n",
      " 11%|█▏        | 100/870 [00:11<01:17,  9.98it/s]"
     ]
    },
    {
     "name": "stdout",
     "output_type": "stream",
     "text": [
      "{'eval_accuracy': 0.15265200517464425, 'eval_f1': 0.23347554481647717, 'eval_loss': 0.39547520875930786, 'eval_runtime': 1.2198, 'eval_samples_per_second': 633.721, 'eval_steps_per_second': 40.171, 'epoch': 0.23}\n"
     ]
    },
    {
     "name": "stderr",
     "output_type": "stream",
     "text": [
      "                                                 \n",
      " 23%|██▎       | 200/870 [00:24<01:06, 10.06it/s]"
     ]
    },
    {
     "name": "stdout",
     "output_type": "stream",
     "text": [
      "{'eval_accuracy': 0.20827943078913325, 'eval_f1': 0.3576652999177793, 'eval_loss': 0.3575790822505951, 'eval_runtime': 1.2862, 'eval_samples_per_second': 601.002, 'eval_steps_per_second': 38.097, 'epoch': 0.46}\n"
     ]
    },
    {
     "name": "stderr",
     "output_type": "stream",
     "text": [
      "                                                 \n",
      " 34%|███▍      | 300/870 [00:37<00:55, 10.23it/s]"
     ]
    },
    {
     "name": "stdout",
     "output_type": "stream",
     "text": [
      "{'eval_accuracy': 0.24320827943078913, 'eval_f1': 0.4476966235204028, 'eval_loss': 0.3346174657344818, 'eval_runtime': 1.2425, 'eval_samples_per_second': 622.111, 'eval_steps_per_second': 39.435, 'epoch': 0.69}\n"
     ]
    },
    {
     "name": "stderr",
     "output_type": "stream",
     "text": [
      "                                                 \n",
      " 46%|████▌     | 400/870 [00:50<00:50,  9.39it/s]"
     ]
    },
    {
     "name": "stdout",
     "output_type": "stream",
     "text": [
      "{'eval_accuracy': 0.21733505821474774, 'eval_f1': 0.4270959303430492, 'eval_loss': 0.32394376397132874, 'eval_runtime': 1.2906, 'eval_samples_per_second': 598.95, 'eval_steps_per_second': 37.967, 'epoch': 0.92}\n"
     ]
    },
    {
     "name": "stderr",
     "output_type": "stream",
     "text": [
      " 57%|█████▋    | 500/870 [01:02<00:38,  9.57it/s]"
     ]
    },
    {
     "name": "stdout",
     "output_type": "stream",
     "text": [
      "{'loss': 0.36, 'grad_norm': 1.8947480916976929, 'learning_rate': 2.1264367816091954e-05, 'epoch': 1.15}\n"
     ]
    },
    {
     "name": "stderr",
     "output_type": "stream",
     "text": [
      "                                                 \n",
      " 57%|█████▋    | 500/870 [01:04<00:38,  9.57it/s]"
     ]
    },
    {
     "name": "stdout",
     "output_type": "stream",
     "text": [
      "{'eval_accuracy': 0.2522639068564036, 'eval_f1': 0.48487886839214817, 'eval_loss': 0.3192121982574463, 'eval_runtime': 1.2945, 'eval_samples_per_second': 597.124, 'eval_steps_per_second': 37.851, 'epoch': 1.15}\n"
     ]
    },
    {
     "name": "stderr",
     "output_type": "stream",
     "text": [
      "                                                 \n",
      " 69%|██████▉   | 600/870 [01:17<00:27, 10.00it/s]"
     ]
    },
    {
     "name": "stdout",
     "output_type": "stream",
     "text": [
      "{'eval_accuracy': 0.2626131953428202, 'eval_f1': 0.5028990759894348, 'eval_loss': 0.316860169172287, 'eval_runtime': 1.2485, 'eval_samples_per_second': 619.15, 'eval_steps_per_second': 39.248, 'epoch': 1.38}\n"
     ]
    },
    {
     "name": "stderr",
     "output_type": "stream",
     "text": [
      "                                                 \n",
      " 80%|████████  | 700/870 [01:30<00:18,  9.34it/s]"
     ]
    },
    {
     "name": "stdout",
     "output_type": "stream",
     "text": [
      "{'eval_accuracy': 0.2535575679172057, 'eval_f1': 0.5080239717907137, 'eval_loss': 0.311162531375885, 'eval_runtime': 1.2884, 'eval_samples_per_second': 599.987, 'eval_steps_per_second': 38.033, 'epoch': 1.61}\n"
     ]
    },
    {
     "name": "stderr",
     "output_type": "stream",
     "text": [
      "                                                 \n",
      " 92%|█████████▏| 800/870 [01:44<00:06, 10.23it/s]"
     ]
    },
    {
     "name": "stdout",
     "output_type": "stream",
     "text": [
      "{'eval_accuracy': 0.26002587322121606, 'eval_f1': 0.5023320492161502, 'eval_loss': 0.3096621334552765, 'eval_runtime': 1.2536, 'eval_samples_per_second': 616.621, 'eval_steps_per_second': 39.087, 'epoch': 1.84}\n"
     ]
    },
    {
     "name": "stderr",
     "output_type": "stream",
     "text": [
      "100%|██████████| 870/870 [01:52<00:00,  7.71it/s]"
     ]
    },
    {
     "name": "stdout",
     "output_type": "stream",
     "text": [
      "{'train_runtime': 112.868, 'train_samples_per_second': 123.17, 'train_steps_per_second': 7.708, 'train_loss': 0.32823522282742906, 'epoch': 2.0}\n"
     ]
    },
    {
     "name": "stderr",
     "output_type": "stream",
     "text": [
      "\n"
     ]
    },
    {
     "data": {
      "text/plain": [
       "TrainOutput(global_step=870, training_loss=0.32823522282742906, metrics={'train_runtime': 112.868, 'train_samples_per_second': 123.17, 'train_steps_per_second': 7.708, 'train_loss': 0.32823522282742906, 'epoch': 2.0})"
      ]
     },
     "execution_count": 132,
     "metadata": {},
     "output_type": "execute_result"
    }
   ],
   "source": [
    "trainer = Trainer(\n",
    "    model=model,\n",
    "    args=training_args,\n",
    "    train_dataset=trainset_tokenized,\n",
    "    eval_dataset=validset_tokenized,\n",
    "    compute_metrics=compute_metrics,\n",
    "    tokenizer=tokenizer,\n",
    ")\n",
    "\n",
    "trainer.train()"
   ]
  },
  {
   "cell_type": "code",
   "execution_count": 133,
   "metadata": {},
   "outputs": [
    {
     "name": "stderr",
     "output_type": "stream",
     "text": [
      "100%|██████████| 435/435 [00:11<00:00, 39.32it/s]\n"
     ]
    },
    {
     "data": {
      "text/plain": [
       "{'eval_accuracy': 0.3308876420658898,\n",
       " 'eval_f1': 0.5513414289861168,\n",
       " 'eval_loss': 0.25398728251457214,\n",
       " 'eval_runtime': 11.091,\n",
       " 'eval_samples_per_second': 626.722,\n",
       " 'eval_steps_per_second': 39.221,\n",
       " 'epoch': 2.0}"
      ]
     },
     "execution_count": 133,
     "metadata": {},
     "output_type": "execute_result"
    }
   ],
   "source": [
    "trainer.evaluate(trainset_tokenized)"
   ]
  },
  {
   "cell_type": "code",
   "execution_count": 134,
   "metadata": {},
   "outputs": [
    {
     "name": "stderr",
     "output_type": "stream",
     "text": [
      "100%|██████████| 49/49 [00:01<00:00, 39.10it/s]\n"
     ]
    },
    {
     "data": {
      "text/plain": [
       "{'eval_accuracy': 0.26002587322121606,\n",
       " 'eval_f1': 0.5023320492161502,\n",
       " 'eval_loss': 0.3096621334552765,\n",
       " 'eval_runtime': 1.2785,\n",
       " 'eval_samples_per_second': 604.617,\n",
       " 'eval_steps_per_second': 38.326,\n",
       " 'epoch': 2.0}"
      ]
     },
     "execution_count": 134,
     "metadata": {},
     "output_type": "execute_result"
    }
   ],
   "source": [
    "trainer.evaluate(validset_tokenized)"
   ]
  },
  {
   "cell_type": "markdown",
   "metadata": {},
   "source": [
    "## Emoji satisfier"
   ]
  },
  {
   "cell_type": "code",
   "execution_count": 11,
   "metadata": {},
   "outputs": [],
   "source": [
    "def demoji_text(text):\n",
    "    \n",
    "    # frequent emojis whhich will be kept\n",
    "    pattern = '😤|😡|😠|😑|🙄|🤨|😶|😱|🙀|😲|😓|😰|😢|😥|😭|😪|🤕|😔|😣|🙁|😒|😖|😕|🥴|🤒|☹️|😞|😷|🤧|😧|😨|😩|🥺|😦|😆|😀|🤭|🤩|😌|🥰|😁|😘|😂|😅|😊|😝|😙|😇'\n",
    "    for word in text:    \n",
    "        if re.match(pattern, word):\n",
    "            continue\n",
    "            \n",
    "        # remove all other non ascii characters\n",
    "        text=text.replace(word, re.sub('[^\\x00-\\x7f]','', word)).strip()\n",
    "        \n",
    "    return text\n",
    "\n",
    "def convert_emoji(text):\n",
    "    \n",
    "    # dictionary of emoji with their meaning\n",
    "    d = {'😤':'frustrated','😡':'angry','😠':'angry','😱':'horrified','🙀':'shock','😲':'shock','🙄':'disapproval',\n",
    "         '🤨':'suspicion','😶':'disappointment','😓':'sad','😰':'sad','😢':'sad','😥':'sad','😭':'sad','😪':'sad',\n",
    "         '🤕':'sad','😔':'sad','😣':'sad','🙁':'sad','😒':'sad','😖':'sad','😕':'sad','🥴':'sad','🤒':'sad','☹️':'sad',\n",
    "         '😞':'sad','😷':'sick','🤧':'sick','😧':'sad','😨':'sad','😩':'sad','🥺':'sad','😦':'sad','😫':'sad',\n",
    "         '😆':'happy','😀':'smile','🤭':'embarrassment','🤩':'exciting','🥰':'affection','😁':'smile','😂':'laugh',\n",
    "         '😅':'nervousness','😊':'smile','😝':'fun','😙':'affection','😇':'blessed'}\n",
    "    \n",
    "    for emoji, sentiment in d.items():\n",
    "        text=text.replace(emoji, sentiment)\n",
    "    return text"
   ]
  },
  {
   "cell_type": "code",
   "execution_count": 153,
   "metadata": {},
   "outputs": [],
   "source": [
    "train = pd.read_csv(data_folder/'train.csv')\n",
    "test = pd.read_csv(data_folder/'test.csv')\n",
    "train.drop(columns=['ID'], inplace=True)"
   ]
  },
  {
   "cell_type": "code",
   "execution_count": 154,
   "metadata": {},
   "outputs": [],
   "source": [
    "train_clean = train['Tweet'].apply(demoji_text).apply(convert_emoji).apply(strip_all_entities).apply(clean_hashtags).apply(filter_chars).apply(remove_mult_spaces).apply(handle_numerical_data)\n",
    "train['Tweet'] = train_clean"
   ]
  },
  {
   "cell_type": "code",
   "execution_count": 155,
   "metadata": {},
   "outputs": [],
   "source": [
    "X = train['Tweet'].values\n",
    "y = train.loc[:, train.columns != 'Tweet'].values\n",
    "y = np.array(y, dtype=float)"
   ]
  },
  {
   "cell_type": "code",
   "execution_count": 156,
   "metadata": {},
   "outputs": [],
   "source": [
    "X_train, X_val, y_train, y_val  = train_test_split(X, y, random_state=42,test_size=0.1)"
   ]
  },
  {
   "cell_type": "code",
   "execution_count": 157,
   "metadata": {},
   "outputs": [],
   "source": [
    "trainset = Dataset.from_dict({\n",
    "    'texts': X_train,\n",
    "    'labels': y_train\n",
    "})\n",
    "validset = Dataset.from_dict({\n",
    "    'texts': X_val,\n",
    "    'labels': y_val\n",
    "})"
   ]
  },
  {
   "cell_type": "code",
   "execution_count": 158,
   "metadata": {},
   "outputs": [],
   "source": [
    "checkpoint = \"roberta-base\"\n",
    "tokenizer = AutoTokenizer.from_pretrained(checkpoint)"
   ]
  },
  {
   "cell_type": "code",
   "execution_count": 159,
   "metadata": {},
   "outputs": [],
   "source": [
    "def tokenize_fn(batch):\n",
    "    return tokenizer(text = batch[\"texts\"], truncation=True)"
   ]
  },
  {
   "cell_type": "code",
   "execution_count": 160,
   "metadata": {},
   "outputs": [
    {
     "name": "stderr",
     "output_type": "stream",
     "text": [
      "Map:   0%|          | 0/6951 [00:00<?, ? examples/s]"
     ]
    },
    {
     "name": "stderr",
     "output_type": "stream",
     "text": [
      "Map: 100%|██████████| 6951/6951 [00:00<00:00, 49183.76 examples/s]\n",
      "Map: 100%|██████████| 773/773 [00:00<00:00, 42205.12 examples/s]\n"
     ]
    }
   ],
   "source": [
    "trainset_tokenized = trainset.map(tokenize_fn, batched=True)\n",
    "validset_tokenized = validset.map(tokenize_fn, batched=True)\n",
    "trainset_tokenized = trainset_tokenized.remove_columns(['texts'])\n",
    "validset_tokenized = validset_tokenized.remove_columns(['texts'])\n",
    "trainset_tokenized.set_format(type='torch')\n",
    "validset_tokenized.set_format(type='torch')"
   ]
  },
  {
   "cell_type": "code",
   "execution_count": 161,
   "metadata": {},
   "outputs": [
    {
     "name": "stderr",
     "output_type": "stream",
     "text": [
      "Some weights of RobertaForSequenceClassification were not initialized from the model checkpoint at roberta-base and are newly initialized: ['classifier.dense.bias', 'classifier.dense.weight', 'classifier.out_proj.bias', 'classifier.out_proj.weight']\n",
      "You should probably TRAIN this model on a down-stream task to be able to use it for predictions and inference.\n"
     ]
    }
   ],
   "source": [
    "model = AutoModelForSequenceClassification.from_pretrained(\n",
    "    checkpoint, \n",
    "    problem_type=\"multi_label_classification\", \n",
    "    num_labels=len(label2id),\n",
    "    id2label=id2label,\n",
    "    label2id=label2id\n",
    ")"
   ]
  },
  {
   "cell_type": "code",
   "execution_count": 162,
   "metadata": {},
   "outputs": [],
   "source": [
    "training_args = TrainingArguments(\n",
    "    num_train_epochs=3,\n",
    "\n",
    "    per_device_train_batch_size=16,\n",
    "    per_device_eval_batch_size=16,\n",
    "    # weight_decay=0.01,  \n",
    "    # learning_rate=2e-5, \n",
    "    optim='adamw_torch',\n",
    "\n",
    "    # Checkpoint saving and model evaluation settings\n",
    "    output_dir=str(model_folder/'bert'), \n",
    "    evaluation_strategy='steps', \n",
    "    eval_steps=100, \n",
    "    save_strategy=\"steps\", \n",
    "    save_steps=100, \n",
    "    load_best_model_at_end=True, \n",
    "    save_total_limit=2, \n",
    "    metric_for_best_model=\"loss\",\n",
    "    greater_is_better=False, \n",
    ")"
   ]
  },
  {
   "cell_type": "code",
   "execution_count": 163,
   "metadata": {},
   "outputs": [
    {
     "name": "stderr",
     "output_type": "stream",
     "text": [
      "c:\\Users\\shaur\\anaconda3\\envs\\anlp\\lib\\site-packages\\accelerate\\accelerator.py:432: FutureWarning: Passing the following arguments to `Accelerator` is deprecated and will be removed in version 1.0 of Accelerate: dict_keys(['dispatch_batches', 'split_batches', 'even_batches', 'use_seedable_sampler']). Please pass an `accelerate.DataLoaderConfiguration` instead: \n",
      "dataloader_config = DataLoaderConfiguration(dispatch_batches=None, split_batches=False, even_batches=True, use_seedable_sampler=True)\n",
      "  warnings.warn(\n",
      "                                                 \n",
      "  8%|▊         | 100/1305 [00:11<01:59, 10.12it/s]"
     ]
    },
    {
     "name": "stdout",
     "output_type": "stream",
     "text": [
      "{'eval_accuracy': 0.15265200517464425, 'eval_f1': 0.31151710878574573, 'eval_loss': 0.38810795545578003, 'eval_runtime': 1.2892, 'eval_samples_per_second': 599.603, 'eval_steps_per_second': 38.008, 'epoch': 0.23}\n"
     ]
    },
    {
     "name": "stderr",
     "output_type": "stream",
     "text": [
      "                                                  \n",
      " 15%|█▌        | 200/1305 [00:25<01:51,  9.90it/s]"
     ]
    },
    {
     "name": "stdout",
     "output_type": "stream",
     "text": [
      "{'eval_accuracy': 0.20439844760672704, 'eval_f1': 0.3670371504881919, 'eval_loss': 0.35151031613349915, 'eval_runtime': 1.2487, 'eval_samples_per_second': 619.04, 'eval_steps_per_second': 39.241, 'epoch': 0.46}\n"
     ]
    },
    {
     "name": "stderr",
     "output_type": "stream",
     "text": [
      "                                                  \n",
      " 23%|██▎       | 300/1305 [00:38<01:40, 10.01it/s]"
     ]
    },
    {
     "name": "stdout",
     "output_type": "stream",
     "text": [
      "{'eval_accuracy': 0.22639068564036222, 'eval_f1': 0.4158005088311972, 'eval_loss': 0.3456294536590576, 'eval_runtime': 1.273, 'eval_samples_per_second': 607.239, 'eval_steps_per_second': 38.493, 'epoch': 0.69}\n"
     ]
    },
    {
     "name": "stderr",
     "output_type": "stream",
     "text": [
      "                                                  \n",
      " 31%|███       | 400/1305 [00:51<01:31,  9.90it/s]"
     ]
    },
    {
     "name": "stdout",
     "output_type": "stream",
     "text": [
      "{'eval_accuracy': 0.2186287192755498, 'eval_f1': 0.4142822619814037, 'eval_loss': 0.3352793753147125, 'eval_runtime': 1.2665, 'eval_samples_per_second': 610.336, 'eval_steps_per_second': 38.689, 'epoch': 0.92}\n"
     ]
    },
    {
     "name": "stderr",
     "output_type": "stream",
     "text": [
      " 38%|███▊      | 500/1305 [01:03<01:20, 10.06it/s]"
     ]
    },
    {
     "name": "stdout",
     "output_type": "stream",
     "text": [
      "{'loss': 0.361, 'grad_norm': 2.662369966506958, 'learning_rate': 3.084291187739464e-05, 'epoch': 1.15}\n"
     ]
    },
    {
     "name": "stderr",
     "output_type": "stream",
     "text": [
      "                                                  \n",
      " 38%|███▊      | 500/1305 [01:04<01:20, 10.06it/s]"
     ]
    },
    {
     "name": "stdout",
     "output_type": "stream",
     "text": [
      "{'eval_accuracy': 0.222509702457956, 'eval_f1': 0.4747920594946205, 'eval_loss': 0.3409270942211151, 'eval_runtime': 1.2561, 'eval_samples_per_second': 615.4, 'eval_steps_per_second': 39.01, 'epoch': 1.15}\n"
     ]
    },
    {
     "name": "stderr",
     "output_type": "stream",
     "text": [
      "                                                  \n",
      " 46%|████▌     | 600/1305 [01:17<01:09, 10.09it/s]"
     ]
    },
    {
     "name": "stdout",
     "output_type": "stream",
     "text": [
      "{'eval_accuracy': 0.24838292367399742, 'eval_f1': 0.46846973813453535, 'eval_loss': 0.3240543305873871, 'eval_runtime': 1.2606, 'eval_samples_per_second': 613.207, 'eval_steps_per_second': 38.871, 'epoch': 1.38}\n"
     ]
    },
    {
     "name": "stderr",
     "output_type": "stream",
     "text": [
      "                                                  \n",
      " 54%|█████▎    | 700/1305 [01:31<01:02,  9.61it/s]"
     ]
    },
    {
     "name": "stdout",
     "output_type": "stream",
     "text": [
      "{'eval_accuracy': 0.24708926261319533, 'eval_f1': 0.4715812943818935, 'eval_loss': 0.32145458459854126, 'eval_runtime': 1.2544, 'eval_samples_per_second': 616.215, 'eval_steps_per_second': 39.062, 'epoch': 1.61}\n"
     ]
    },
    {
     "name": "stderr",
     "output_type": "stream",
     "text": [
      "                                                  \n",
      " 61%|██████▏   | 800/1305 [01:44<00:52,  9.62it/s]"
     ]
    },
    {
     "name": "stdout",
     "output_type": "stream",
     "text": [
      "{'eval_accuracy': 0.26390685640362227, 'eval_f1': 0.5247933489743084, 'eval_loss': 0.32027214765548706, 'eval_runtime': 1.2836, 'eval_samples_per_second': 602.213, 'eval_steps_per_second': 38.174, 'epoch': 1.84}\n"
     ]
    },
    {
     "name": "stderr",
     "output_type": "stream",
     "text": [
      "                                                  \n",
      " 69%|██████▉   | 900/1305 [01:57<00:39, 10.13it/s]"
     ]
    },
    {
     "name": "stdout",
     "output_type": "stream",
     "text": [
      "{'eval_accuracy': 0.2315653298835705, 'eval_f1': 0.5032966090034869, 'eval_loss': 0.3198437988758087, 'eval_runtime': 1.2585, 'eval_samples_per_second': 614.223, 'eval_steps_per_second': 38.935, 'epoch': 2.07}\n"
     ]
    },
    {
     "name": "stderr",
     "output_type": "stream",
     "text": [
      " 77%|███████▋  | 1000/1305 [02:09<00:31,  9.70it/s]"
     ]
    },
    {
     "name": "stdout",
     "output_type": "stream",
     "text": [
      "{'loss': 0.2804, 'grad_norm': 1.8770476579666138, 'learning_rate': 1.1685823754789272e-05, 'epoch': 2.3}\n"
     ]
    },
    {
     "name": "stderr",
     "output_type": "stream",
     "text": [
      "                                                   \n",
      " 77%|███████▋  | 1000/1305 [02:10<00:31,  9.70it/s]"
     ]
    },
    {
     "name": "stdout",
     "output_type": "stream",
     "text": [
      "{'eval_accuracy': 0.258732212160414, 'eval_f1': 0.53848611673226, 'eval_loss': 0.31508368253707886, 'eval_runtime': 1.2777, 'eval_samples_per_second': 604.994, 'eval_steps_per_second': 38.35, 'epoch': 2.3}\n"
     ]
    },
    {
     "name": "stderr",
     "output_type": "stream",
     "text": [
      "                                                   \n",
      " 84%|████████▍ | 1100/1305 [02:23<00:20, 10.00it/s]"
     ]
    },
    {
     "name": "stdout",
     "output_type": "stream",
     "text": [
      "{'eval_accuracy': 0.2445019404915912, 'eval_f1': 0.527409339369219, 'eval_loss': 0.3195434510707855, 'eval_runtime': 1.2726, 'eval_samples_per_second': 607.427, 'eval_steps_per_second': 38.504, 'epoch': 2.53}\n"
     ]
    },
    {
     "name": "stderr",
     "output_type": "stream",
     "text": [
      "                                                   \n",
      " 92%|█████████▏| 1200/1305 [02:36<00:10,  9.74it/s]"
     ]
    },
    {
     "name": "stdout",
     "output_type": "stream",
     "text": [
      "{'eval_accuracy': 0.25485122897800777, 'eval_f1': 0.5509424089933925, 'eval_loss': 0.3181867003440857, 'eval_runtime': 1.2714, 'eval_samples_per_second': 607.973, 'eval_steps_per_second': 38.539, 'epoch': 2.76}\n"
     ]
    },
    {
     "name": "stderr",
     "output_type": "stream",
     "text": [
      "                                                   \n",
      "100%|█████████▉| 1300/1305 [02:50<00:00,  9.59it/s]"
     ]
    },
    {
     "name": "stdout",
     "output_type": "stream",
     "text": [
      "{'eval_accuracy': 0.25485122897800777, 'eval_f1': 0.5470007815616601, 'eval_loss': 0.31338226795196533, 'eval_runtime': 1.3005, 'eval_samples_per_second': 594.389, 'eval_steps_per_second': 37.678, 'epoch': 2.99}\n"
     ]
    },
    {
     "name": "stderr",
     "output_type": "stream",
     "text": [
      "100%|██████████| 1305/1305 [02:52<00:00,  7.57it/s]"
     ]
    },
    {
     "name": "stdout",
     "output_type": "stream",
     "text": [
      "{'train_runtime': 172.323, 'train_samples_per_second': 121.011, 'train_steps_per_second': 7.573, 'train_loss': 0.30461894068224676, 'epoch': 3.0}\n"
     ]
    },
    {
     "name": "stderr",
     "output_type": "stream",
     "text": [
      "\n"
     ]
    },
    {
     "data": {
      "text/plain": [
       "TrainOutput(global_step=1305, training_loss=0.30461894068224676, metrics={'train_runtime': 172.323, 'train_samples_per_second': 121.011, 'train_steps_per_second': 7.573, 'train_loss': 0.30461894068224676, 'epoch': 3.0})"
      ]
     },
     "execution_count": 163,
     "metadata": {},
     "output_type": "execute_result"
    }
   ],
   "source": [
    "trainer = Trainer(\n",
    "    model=model,\n",
    "    args=training_args,\n",
    "    train_dataset=trainset_tokenized,\n",
    "    eval_dataset=validset_tokenized,\n",
    "    compute_metrics=compute_metrics,\n",
    "    tokenizer=tokenizer,\n",
    ")\n",
    "\n",
    "trainer.train()"
   ]
  },
  {
   "cell_type": "code",
   "execution_count": 164,
   "metadata": {},
   "outputs": [
    {
     "name": "stderr",
     "output_type": "stream",
     "text": [
      "  0%|          | 0/435 [00:00<?, ?it/s]"
     ]
    },
    {
     "name": "stderr",
     "output_type": "stream",
     "text": [
      "100%|██████████| 435/435 [00:11<00:00, 37.66it/s]\n"
     ]
    },
    {
     "data": {
      "text/plain": [
       "{'eval_accuracy': 0.37836282549273487,\n",
       " 'eval_f1': 0.6102444936067081,\n",
       " 'eval_loss': 0.22411231696605682,\n",
       " 'eval_runtime': 11.577,\n",
       " 'eval_samples_per_second': 600.413,\n",
       " 'eval_steps_per_second': 37.574,\n",
       " 'epoch': 3.0}"
      ]
     },
     "execution_count": 164,
     "metadata": {},
     "output_type": "execute_result"
    }
   ],
   "source": [
    "trainer.evaluate(trainset_tokenized)"
   ]
  },
  {
   "cell_type": "code",
   "execution_count": 165,
   "metadata": {},
   "outputs": [
    {
     "name": "stderr",
     "output_type": "stream",
     "text": [
      "  0%|          | 0/49 [00:00<?, ?it/s]"
     ]
    },
    {
     "name": "stderr",
     "output_type": "stream",
     "text": [
      "100%|██████████| 49/49 [00:01<00:00, 38.83it/s]\n"
     ]
    },
    {
     "data": {
      "text/plain": [
       "{'eval_accuracy': 0.25485122897800777,\n",
       " 'eval_f1': 0.5470007815616601,\n",
       " 'eval_loss': 0.31338226795196533,\n",
       " 'eval_runtime': 1.285,\n",
       " 'eval_samples_per_second': 601.569,\n",
       " 'eval_steps_per_second': 38.133,\n",
       " 'epoch': 3.0}"
      ]
     },
     "execution_count": 165,
     "metadata": {},
     "output_type": "execute_result"
    }
   ],
   "source": [
    "trainer.evaluate(validset_tokenized)"
   ]
  },
  {
   "cell_type": "markdown",
   "metadata": {},
   "source": [
    "## Emoji Satisfier with Numbers"
   ]
  },
  {
   "cell_type": "code",
   "execution_count": 30,
   "metadata": {},
   "outputs": [],
   "source": [
    "train = pd.read_csv(data_folder/'train.csv')\n",
    "test = pd.read_csv(data_folder/'test.csv')\n",
    "train.drop(columns=['ID'], inplace=True)"
   ]
  },
  {
   "cell_type": "code",
   "execution_count": 31,
   "metadata": {},
   "outputs": [],
   "source": [
    "train_clean = train['Tweet'].apply(demoji_text).apply(convert_emoji).apply(strip_all_entities).apply(clean_hashtags).apply(filter_chars).apply(remove_mult_spaces)\n",
    "train['Tweet'] = train_clean"
   ]
  },
  {
   "cell_type": "code",
   "execution_count": 32,
   "metadata": {},
   "outputs": [],
   "source": [
    "X = train['Tweet'].values\n",
    "y = train.loc[:, train.columns != 'Tweet'].values\n",
    "y = np.array(y, dtype=float)"
   ]
  },
  {
   "cell_type": "code",
   "execution_count": 33,
   "metadata": {},
   "outputs": [],
   "source": [
    "X_train, X_val, y_train, y_val  = train_test_split(X, y, random_state=42,test_size=0.1)"
   ]
  },
  {
   "cell_type": "code",
   "execution_count": 34,
   "metadata": {},
   "outputs": [],
   "source": [
    "trainset = Dataset.from_dict({\n",
    "    'texts': X_train,\n",
    "    'labels': y_train\n",
    "})\n",
    "validset = Dataset.from_dict({\n",
    "    'texts': X_val,\n",
    "    'labels': y_val\n",
    "})"
   ]
  },
  {
   "cell_type": "code",
   "execution_count": 35,
   "metadata": {},
   "outputs": [],
   "source": [
    "checkpoint = \"cardiffnlp/twitter-roberta-base-2022-154m\"\n",
    "tokenizer = AutoTokenizer.from_pretrained(checkpoint)"
   ]
  },
  {
   "cell_type": "code",
   "execution_count": 36,
   "metadata": {},
   "outputs": [],
   "source": [
    "def tokenize_fn(batch):\n",
    "    return tokenizer(text = batch[\"texts\"], truncation=True)"
   ]
  },
  {
   "cell_type": "code",
   "execution_count": 37,
   "metadata": {},
   "outputs": [
    {
     "name": "stderr",
     "output_type": "stream",
     "text": [
      "Map:   0%|          | 0/6951 [00:00<?, ? examples/s]"
     ]
    },
    {
     "name": "stderr",
     "output_type": "stream",
     "text": [
      "Map: 100%|██████████| 6951/6951 [00:00<00:00, 60153.52 examples/s]\n",
      "Map: 100%|██████████| 773/773 [00:00<00:00, 57749.94 examples/s]\n"
     ]
    }
   ],
   "source": [
    "trainset_tokenized = trainset.map(tokenize_fn, batched=True)\n",
    "validset_tokenized = validset.map(tokenize_fn, batched=True)\n",
    "trainset_tokenized = trainset_tokenized.remove_columns(['texts'])\n",
    "validset_tokenized = validset_tokenized.remove_columns(['texts'])\n",
    "trainset_tokenized.set_format(type='torch')\n",
    "validset_tokenized.set_format(type='torch')"
   ]
  },
  {
   "cell_type": "code",
   "execution_count": 38,
   "metadata": {},
   "outputs": [
    {
     "name": "stderr",
     "output_type": "stream",
     "text": [
      "Some weights of RobertaForSequenceClassification were not initialized from the model checkpoint at cardiffnlp/twitter-roberta-base-2022-154m and are newly initialized: ['classifier.dense.bias', 'classifier.dense.weight', 'classifier.out_proj.bias', 'classifier.out_proj.weight']\n",
      "You should probably TRAIN this model on a down-stream task to be able to use it for predictions and inference.\n"
     ]
    }
   ],
   "source": [
    "model = AutoModelForSequenceClassification.from_pretrained(\n",
    "    checkpoint, \n",
    "    problem_type=\"multi_label_classification\", \n",
    "    num_labels=len(label2id),\n",
    "    id2label=id2label,\n",
    "    label2id=label2id\n",
    ")"
   ]
  },
  {
   "cell_type": "code",
   "execution_count": 39,
   "metadata": {},
   "outputs": [],
   "source": [
    "training_args = TrainingArguments(\n",
    "    num_train_epochs=3,\n",
    "\n",
    "    per_device_train_batch_size=16,\n",
    "    per_device_eval_batch_size=16,\n",
    "    # weight_decay=0.01,  \n",
    "    # learning_rate=2e-5, \n",
    "    optim='adamw_torch',\n",
    "\n",
    "    # Checkpoint saving and model evaluation settings\n",
    "    output_dir=str(model_folder/'roberta-twitter'), \n",
    "    evaluation_strategy='steps', \n",
    "    eval_steps=100, \n",
    "    save_strategy=\"steps\", \n",
    "    save_steps=100, \n",
    "    load_best_model_at_end=True, \n",
    "    save_total_limit=5, \n",
    "    metric_for_best_model=\"loss\",\n",
    "    greater_is_better=False, \n",
    ")"
   ]
  },
  {
   "cell_type": "code",
   "execution_count": 40,
   "metadata": {},
   "outputs": [
    {
     "name": "stderr",
     "output_type": "stream",
     "text": [
      "c:\\Users\\shaur\\anaconda3\\envs\\anlp\\lib\\site-packages\\accelerate\\accelerator.py:432: FutureWarning: Passing the following arguments to `Accelerator` is deprecated and will be removed in version 1.0 of Accelerate: dict_keys(['dispatch_batches', 'split_batches', 'even_batches', 'use_seedable_sampler']). Please pass an `accelerate.DataLoaderConfiguration` instead: \n",
      "dataloader_config = DataLoaderConfiguration(dispatch_batches=None, split_batches=False, even_batches=True, use_seedable_sampler=True)\n",
      "  warnings.warn(\n",
      "Failed to detect the name of this notebook, you can set it manually with the WANDB_NOTEBOOK_NAME environment variable to enable code saving.\n",
      "\u001b[34m\u001b[1mwandb\u001b[0m: Currently logged in as: \u001b[33mshauryat1298\u001b[0m (\u001b[33mshauryat12\u001b[0m). Use \u001b[1m`wandb login --relogin`\u001b[0m to force relogin\n"
     ]
    },
    {
     "data": {
      "text/html": [
       "wandb version 0.16.6 is available!  To upgrade, please run:\n",
       " $ pip install wandb --upgrade"
      ],
      "text/plain": [
       "<IPython.core.display.HTML object>"
      ]
     },
     "metadata": {},
     "output_type": "display_data"
    },
    {
     "data": {
      "text/html": [
       "Tracking run with wandb version 0.16.5"
      ],
      "text/plain": [
       "<IPython.core.display.HTML object>"
      ]
     },
     "metadata": {},
     "output_type": "display_data"
    },
    {
     "data": {
      "text/html": [
       "Run data is saved locally in <code>c:\\Users\\shaur\\Desktop\\UTD\\ANLP\\Assign\\Emotion Detection\\wandb\\run-20240428_104314-1t2d6qpa</code>"
      ],
      "text/plain": [
       "<IPython.core.display.HTML object>"
      ]
     },
     "metadata": {},
     "output_type": "display_data"
    },
    {
     "data": {
      "text/html": [
       "Syncing run <strong><a href='https://wandb.ai/shauryat12/huggingface/runs/1t2d6qpa/workspace' target=\"_blank\">olive-star-25</a></strong> to <a href='https://wandb.ai/shauryat12/huggingface' target=\"_blank\">Weights & Biases</a> (<a href='https://wandb.me/run' target=\"_blank\">docs</a>)<br/>"
      ],
      "text/plain": [
       "<IPython.core.display.HTML object>"
      ]
     },
     "metadata": {},
     "output_type": "display_data"
    },
    {
     "data": {
      "text/html": [
       " View project at <a href='https://wandb.ai/shauryat12/huggingface' target=\"_blank\">https://wandb.ai/shauryat12/huggingface</a>"
      ],
      "text/plain": [
       "<IPython.core.display.HTML object>"
      ]
     },
     "metadata": {},
     "output_type": "display_data"
    },
    {
     "data": {
      "text/html": [
       " View run at <a href='https://wandb.ai/shauryat12/huggingface/runs/1t2d6qpa/workspace' target=\"_blank\">https://wandb.ai/shauryat12/huggingface/runs/1t2d6qpa/workspace</a>"
      ],
      "text/plain": [
       "<IPython.core.display.HTML object>"
      ]
     },
     "metadata": {},
     "output_type": "display_data"
    },
    {
     "name": "stderr",
     "output_type": "stream",
     "text": [
      "                                                  \n",
      "  8%|▊         | 100/1305 [00:11<02:04,  9.64it/s]"
     ]
    },
    {
     "name": "stdout",
     "output_type": "stream",
     "text": [
      "{'eval_accuracy': 0.1759379042690815, 'eval_f1': 0.3018638984256024, 'eval_loss': 0.37312379479408264, 'eval_runtime': 1.3772, 'eval_samples_per_second': 561.302, 'eval_steps_per_second': 35.581, 'epoch': 0.23}\n"
     ]
    },
    {
     "name": "stderr",
     "output_type": "stream",
     "text": [
      "                                                  \n",
      " 15%|█▌        | 200/1305 [00:26<01:53,  9.75it/s]"
     ]
    },
    {
     "name": "stdout",
     "output_type": "stream",
     "text": [
      "{'eval_accuracy': 0.2186287192755498, 'eval_f1': 0.3748678364501977, 'eval_loss': 0.3520916700363159, 'eval_runtime': 1.2889, 'eval_samples_per_second': 599.739, 'eval_steps_per_second': 38.017, 'epoch': 0.46}\n"
     ]
    },
    {
     "name": "stderr",
     "output_type": "stream",
     "text": [
      "                                                  \n",
      " 23%|██▎       | 300/1305 [00:41<01:44,  9.60it/s]"
     ]
    },
    {
     "name": "stdout",
     "output_type": "stream",
     "text": [
      "{'eval_accuracy': 0.23803363518758086, 'eval_f1': 0.44121494327968286, 'eval_loss': 0.33397355675697327, 'eval_runtime': 1.3287, 'eval_samples_per_second': 581.778, 'eval_steps_per_second': 36.879, 'epoch': 0.69}\n"
     ]
    },
    {
     "name": "stderr",
     "output_type": "stream",
     "text": [
      "                                                  \n",
      " 31%|███       | 400/1305 [00:55<01:31,  9.91it/s]"
     ]
    },
    {
     "name": "stdout",
     "output_type": "stream",
     "text": [
      "{'eval_accuracy': 0.2315653298835705, 'eval_f1': 0.4193422365350054, 'eval_loss': 0.31905484199523926, 'eval_runtime': 1.3285, 'eval_samples_per_second': 581.844, 'eval_steps_per_second': 36.883, 'epoch': 0.92}\n"
     ]
    },
    {
     "name": "stderr",
     "output_type": "stream",
     "text": [
      " 38%|███▊      | 500/1305 [01:07<01:21,  9.83it/s]"
     ]
    },
    {
     "name": "stdout",
     "output_type": "stream",
     "text": [
      "{'loss': 0.354, 'grad_norm': 2.4181981086730957, 'learning_rate': 3.084291187739464e-05, 'epoch': 1.15}\n"
     ]
    },
    {
     "name": "stderr",
     "output_type": "stream",
     "text": [
      "                                                  \n",
      " 38%|███▊      | 500/1305 [01:08<01:21,  9.83it/s]"
     ]
    },
    {
     "name": "stdout",
     "output_type": "stream",
     "text": [
      "{'eval_accuracy': 0.24320827943078913, 'eval_f1': 0.48341391785219284, 'eval_loss': 0.3271276652812958, 'eval_runtime': 1.3323, 'eval_samples_per_second': 580.198, 'eval_steps_per_second': 36.778, 'epoch': 1.15}\n"
     ]
    },
    {
     "name": "stderr",
     "output_type": "stream",
     "text": [
      "                                                  \n",
      " 46%|████▌     | 600/1305 [01:22<01:10, 10.06it/s]"
     ]
    },
    {
     "name": "stdout",
     "output_type": "stream",
     "text": [
      "{'eval_accuracy': 0.26002587322121606, 'eval_f1': 0.48926586216739554, 'eval_loss': 0.31751829385757446, 'eval_runtime': 1.2906, 'eval_samples_per_second': 598.948, 'eval_steps_per_second': 37.967, 'epoch': 1.38}\n"
     ]
    },
    {
     "name": "stderr",
     "output_type": "stream",
     "text": [
      "                                                  \n",
      " 54%|█████▎    | 700/1305 [01:35<01:04,  9.40it/s]"
     ]
    },
    {
     "name": "stdout",
     "output_type": "stream",
     "text": [
      "{'eval_accuracy': 0.2652005174644243, 'eval_f1': 0.4918408338066484, 'eval_loss': 0.31483978033065796, 'eval_runtime': 1.335, 'eval_samples_per_second': 579.012, 'eval_steps_per_second': 36.703, 'epoch': 1.61}\n"
     ]
    },
    {
     "name": "stderr",
     "output_type": "stream",
     "text": [
      "                                                  \n",
      " 61%|██████▏   | 800/1305 [01:48<00:51,  9.86it/s]"
     ]
    },
    {
     "name": "stdout",
     "output_type": "stream",
     "text": [
      "{'eval_accuracy': 0.2716688227684347, 'eval_f1': 0.5234355539763853, 'eval_loss': 0.3082093894481659, 'eval_runtime': 1.3016, 'eval_samples_per_second': 593.898, 'eval_steps_per_second': 37.647, 'epoch': 1.84}\n"
     ]
    },
    {
     "name": "stderr",
     "output_type": "stream",
     "text": [
      "                                                  \n",
      " 69%|██████▉   | 900/1305 [02:01<00:40,  9.96it/s]"
     ]
    },
    {
     "name": "stdout",
     "output_type": "stream",
     "text": [
      "{'eval_accuracy': 0.26390685640362227, 'eval_f1': 0.5405642790958376, 'eval_loss': 0.30296391248703003, 'eval_runtime': 1.2848, 'eval_samples_per_second': 601.628, 'eval_steps_per_second': 38.137, 'epoch': 2.07}\n"
     ]
    },
    {
     "name": "stderr",
     "output_type": "stream",
     "text": [
      " 77%|███████▋  | 1000/1305 [02:13<00:30,  9.98it/s]"
     ]
    },
    {
     "name": "stdout",
     "output_type": "stream",
     "text": [
      "{'loss': 0.2676, 'grad_norm': 1.2740447521209717, 'learning_rate': 1.1685823754789272e-05, 'epoch': 2.3}\n"
     ]
    },
    {
     "name": "stderr",
     "output_type": "stream",
     "text": [
      "                                                   \n",
      " 77%|███████▋  | 1000/1305 [02:14<00:30,  9.98it/s]"
     ]
    },
    {
     "name": "stdout",
     "output_type": "stream",
     "text": [
      "{'eval_accuracy': 0.278137128072445, 'eval_f1': 0.5505462216096085, 'eval_loss': 0.305410236120224, 'eval_runtime': 1.2753, 'eval_samples_per_second': 606.128, 'eval_steps_per_second': 38.422, 'epoch': 2.3}\n"
     ]
    },
    {
     "name": "stderr",
     "output_type": "stream",
     "text": [
      "                                                   \n",
      " 84%|████████▍ | 1100/1305 [02:27<00:20,  9.84it/s]"
     ]
    },
    {
     "name": "stdout",
     "output_type": "stream",
     "text": [
      "{'eval_accuracy': 0.2755498059508409, 'eval_f1': 0.5493223540987228, 'eval_loss': 0.30581873655319214, 'eval_runtime': 1.2732, 'eval_samples_per_second': 607.118, 'eval_steps_per_second': 38.485, 'epoch': 2.53}\n"
     ]
    },
    {
     "name": "stderr",
     "output_type": "stream",
     "text": [
      "                                                   \n",
      " 92%|█████████▏| 1200/1305 [02:41<00:10,  9.55it/s]"
     ]
    },
    {
     "name": "stdout",
     "output_type": "stream",
     "text": [
      "{'eval_accuracy': 0.2807244501940492, 'eval_f1': 0.573122693161226, 'eval_loss': 0.30753740668296814, 'eval_runtime': 1.3088, 'eval_samples_per_second': 590.63, 'eval_steps_per_second': 37.44, 'epoch': 2.76}\n"
     ]
    },
    {
     "name": "stderr",
     "output_type": "stream",
     "text": [
      "                                                   \n",
      "100%|█████████▉| 1300/1305 [02:54<00:00,  9.83it/s]"
     ]
    },
    {
     "name": "stdout",
     "output_type": "stream",
     "text": [
      "{'eval_accuracy': 0.278137128072445, 'eval_f1': 0.5666965857307745, 'eval_loss': 0.302419513463974, 'eval_runtime': 1.2834, 'eval_samples_per_second': 602.328, 'eval_steps_per_second': 38.181, 'epoch': 2.99}\n"
     ]
    },
    {
     "name": "stderr",
     "output_type": "stream",
     "text": [
      "100%|██████████| 1305/1305 [02:56<00:00,  7.38it/s]"
     ]
    },
    {
     "name": "stdout",
     "output_type": "stream",
     "text": [
      "{'train_runtime': 184.5974, 'train_samples_per_second': 112.965, 'train_steps_per_second': 7.069, 'train_loss': 0.2935631236810794, 'epoch': 3.0}\n"
     ]
    },
    {
     "name": "stderr",
     "output_type": "stream",
     "text": [
      "\n"
     ]
    },
    {
     "data": {
      "text/plain": [
       "TrainOutput(global_step=1305, training_loss=0.2935631236810794, metrics={'train_runtime': 184.5974, 'train_samples_per_second': 112.965, 'train_steps_per_second': 7.069, 'train_loss': 0.2935631236810794, 'epoch': 3.0})"
      ]
     },
     "execution_count": 40,
     "metadata": {},
     "output_type": "execute_result"
    }
   ],
   "source": [
    "trainer = Trainer(\n",
    "    model=model,\n",
    "    args=training_args,\n",
    "    train_dataset=trainset_tokenized,\n",
    "    eval_dataset=validset_tokenized,\n",
    "    compute_metrics=compute_metrics,\n",
    "    tokenizer=tokenizer,\n",
    ")\n",
    "\n",
    "trainer.train()"
   ]
  },
  {
   "cell_type": "code",
   "execution_count": 41,
   "metadata": {},
   "outputs": [
    {
     "name": "stderr",
     "output_type": "stream",
     "text": [
      "  0%|          | 0/435 [00:00<?, ?it/s]"
     ]
    },
    {
     "name": "stderr",
     "output_type": "stream",
     "text": [
      "100%|██████████| 435/435 [00:11<00:00, 38.25it/s]\n"
     ]
    },
    {
     "data": {
      "text/plain": [
       "{'eval_accuracy': 0.4087181700474752,\n",
       " 'eval_f1': 0.6430274188488166,\n",
       " 'eval_loss': 0.20822089910507202,\n",
       " 'eval_runtime': 11.3969,\n",
       " 'eval_samples_per_second': 609.904,\n",
       " 'eval_steps_per_second': 38.168,\n",
       " 'epoch': 3.0}"
      ]
     },
     "execution_count": 41,
     "metadata": {},
     "output_type": "execute_result"
    }
   ],
   "source": [
    "trainer.evaluate(trainset_tokenized)"
   ]
  },
  {
   "cell_type": "code",
   "execution_count": 42,
   "metadata": {},
   "outputs": [
    {
     "name": "stderr",
     "output_type": "stream",
     "text": [
      "  0%|          | 0/49 [00:00<?, ?it/s]"
     ]
    },
    {
     "name": "stderr",
     "output_type": "stream",
     "text": [
      "100%|██████████| 49/49 [00:01<00:00, 39.05it/s]\n"
     ]
    },
    {
     "data": {
      "text/plain": [
       "{'eval_accuracy': 0.278137128072445,\n",
       " 'eval_f1': 0.5666965857307745,\n",
       " 'eval_loss': 0.302419513463974,\n",
       " 'eval_runtime': 1.2839,\n",
       " 'eval_samples_per_second': 602.068,\n",
       " 'eval_steps_per_second': 38.165,\n",
       " 'epoch': 3.0}"
      ]
     },
     "execution_count": 42,
     "metadata": {},
     "output_type": "execute_result"
    }
   ],
   "source": [
    "trainer.evaluate(validset_tokenized)"
   ]
  },
  {
   "cell_type": "markdown",
   "metadata": {},
   "source": [
    "# Evaluation"
   ]
  },
  {
   "cell_type": "markdown",
   "metadata": {},
   "source": [
    "## Check step 1300"
   ]
  },
  {
   "cell_type": "code",
   "execution_count": 44,
   "metadata": {},
   "outputs": [
    {
     "name": "stdout",
     "output_type": "stream",
     "text": [
      "The best model was saved at step 1300.\n"
     ]
    }
   ],
   "source": [
    "best_model_checkpoint_step = 1300\n",
    "print(f\"The best model was saved at step {best_model_checkpoint_step}.\")\n",
    "\n",
    "model_checkpoint = model_folder/'roberta-twitter'/f'checkpoint-{best_model_checkpoint_step}'\n",
    "model = AutoModelForSequenceClassification.from_pretrained(\n",
    "    model_checkpoint\n",
    ")\n",
    "tokenizer = AutoTokenizer.from_pretrained(model_checkpoint)"
   ]
  },
  {
   "cell_type": "code",
   "execution_count": 46,
   "metadata": {},
   "outputs": [],
   "source": [
    "checkpoint = str(model_folder/'roberta-twitter'/f'checkpoint-{best_model_checkpoint_step}')\n",
    "custom_pipeline = pipeline(\n",
    "    task=\"text-classification\",\n",
    "    model=checkpoint,\n",
    "    tokenizer=checkpoint,\n",
    "    device=torch.cuda.current_device(),\n",
    "    top_k=None)"
   ]
  },
  {
   "cell_type": "code",
   "execution_count": 47,
   "metadata": {},
   "outputs": [],
   "source": [
    "def test_thresholds(labels, preds, thresholds: list):\n",
    "    cal_f1 = []\n",
    "    for threshold in thresholds:\n",
    "\n",
    "        pred_df = []\n",
    "\n",
    "        for pred in preds:\n",
    "            temp_ans = label2id.copy()\n",
    "            for pred_label in pred:\n",
    "                if pred_label['score']>threshold:\n",
    "                    temp_ans[pred_label['label']] = 1.\n",
    "                else: \n",
    "                    temp_ans[pred_label['label']] = 0.\n",
    "            \n",
    "            pred_df.append(list(temp_ans.values()))\n",
    "        \n",
    "        cal_f1.append(f1_score(labels, pred_df, average='macro', zero_division=0))\n",
    "\n",
    "    plt.figure(figsize=(8, 6))\n",
    "    plt.plot(thresholds, cal_f1, marker='o', linestyle='-')\n",
    "    plt.title('F1 Score vs. Threshold')\n",
    "    plt.xlabel('Threshold')\n",
    "    plt.ylabel('F1 Score')\n",
    "    plt.grid(True)\n",
    "    plt.show()\n",
    "\n",
    "    # Find the best threshold\n",
    "    best_threshold = thresholds[cal_f1.index(max(cal_f1))]\n",
    "    best_f1_score = max(cal_f1)\n",
    "\n",
    "    print(\"Best Threshold:\", best_threshold)\n",
    "    print(\"Best F1 Score:\", best_f1_score)\n"
   ]
  },
  {
   "cell_type": "code",
   "execution_count": 48,
   "metadata": {},
   "outputs": [],
   "source": [
    "preds = custom_pipeline(trainset['texts'])"
   ]
  },
  {
   "cell_type": "code",
   "execution_count": 49,
   "metadata": {},
   "outputs": [
    {
     "data": {
      "image/png": "[encoded data removed]",
      "text/plain": [
       "<Figure size 800x600 with 1 Axes>"
      ]
     },
     "metadata": {},
     "output_type": "display_data"
    },
    {
     "name": "stdout",
     "output_type": "stream",
     "text": [
      "Best Threshold: 0.29\n",
      "Best F1 Score: 0.699128297048296\n"
     ]
    }
   ],
   "source": [
    "thresholds = np.arange(0.0, 1.01, 0.01).tolist()\n",
    "test_thresholds(trainset['labels'], preds, thresholds)"
   ]
  },
  {
   "cell_type": "code",
   "execution_count": 50,
   "metadata": {},
   "outputs": [],
   "source": [
    "preds = custom_pipeline(validset['texts'])"
   ]
  },
  {
   "cell_type": "code",
   "execution_count": 51,
   "metadata": {},
   "outputs": [
    {
     "data": {
      "image/png": "[encoded data removed]",
      "text/plain": [
       "<Figure size 800x600 with 1 Axes>"
      ]
     },
     "metadata": {},
     "output_type": "display_data"
    },
    {
     "name": "stdout",
     "output_type": "stream",
     "text": [
      "Best Threshold: 0.24\n",
      "Best F1 Score: 0.6281091095976719\n"
     ]
    }
   ],
   "source": [
    "thresholds = np.arange(0.0, 1.01, 0.01).tolist()\n",
    "test_thresholds(validset['labels'], preds, thresholds)"
   ]
  },
  {
   "cell_type": "markdown",
   "metadata": {},
   "source": [
    "## Check step 1200"
   ]
  },
  {
   "cell_type": "code",
   "execution_count": 52,
   "metadata": {},
   "outputs": [
    {
     "name": "stdout",
     "output_type": "stream",
     "text": [
      "The best model was saved at step 1200.\n"
     ]
    }
   ],
   "source": [
    "best_model_checkpoint_step = 1200\n",
    "print(f\"The best model was saved at step {best_model_checkpoint_step}.\")\n",
    "\n",
    "model_checkpoint = model_folder/'roberta-twitter'/f'checkpoint-{best_model_checkpoint_step}'\n",
    "model = AutoModelForSequenceClassification.from_pretrained(\n",
    "    model_checkpoint\n",
    ")\n",
    "tokenizer = AutoTokenizer.from_pretrained(model_checkpoint)"
   ]
  },
  {
   "cell_type": "code",
   "execution_count": 53,
   "metadata": {},
   "outputs": [],
   "source": [
    "checkpoint = str(model_folder/'roberta-twitter'/f'checkpoint-{best_model_checkpoint_step}')\n",
    "custom_pipeline = pipeline(\n",
    "    task=\"text-classification\",\n",
    "    model=checkpoint,\n",
    "    tokenizer=checkpoint,\n",
    "    device=torch.cuda.current_device(),\n",
    "    top_k=None)"
   ]
  },
  {
   "cell_type": "code",
   "execution_count": 54,
   "metadata": {},
   "outputs": [],
   "source": [
    "preds = custom_pipeline(trainset['texts'])"
   ]
  },
  {
   "cell_type": "code",
   "execution_count": 55,
   "metadata": {},
   "outputs": [
    {
     "data": {
      "image/png": "[encoded data removed]",
      "text/plain": [
       "<Figure size 800x600 with 1 Axes>"
      ]
     },
     "metadata": {},
     "output_type": "display_data"
    },
    {
     "name": "stdout",
     "output_type": "stream",
     "text": [
      "Best Threshold: 0.31\n",
      "Best F1 Score: 0.6943058879820383\n"
     ]
    }
   ],
   "source": [
    "thresholds = np.arange(0.0, 1.01, 0.01).tolist()\n",
    "test_thresholds(trainset['labels'], preds, thresholds)"
   ]
  },
  {
   "cell_type": "code",
   "execution_count": 56,
   "metadata": {},
   "outputs": [],
   "source": [
    "preds = custom_pipeline(validset['texts'])"
   ]
  },
  {
   "cell_type": "code",
   "execution_count": 57,
   "metadata": {},
   "outputs": [
    {
     "data": {
      "image/png": "[encoded data removed]",
      "text/plain": [
       "<Figure size 800x600 with 1 Axes>"
      ]
     },
     "metadata": {},
     "output_type": "display_data"
    },
    {
     "name": "stdout",
     "output_type": "stream",
     "text": [
      "Best Threshold: 0.26\n",
      "Best F1 Score: 0.6205536611269713\n"
     ]
    }
   ],
   "source": [
    "thresholds = np.arange(0.0, 1.01, 0.01).tolist()\n",
    "test_thresholds(validset['labels'], preds, thresholds)"
   ]
  },
  {
   "cell_type": "markdown",
   "metadata": {},
   "source": [
    "# Submission to Kaggle"
   ]
  },
  {
   "cell_type": "code",
   "execution_count": 48,
   "metadata": {},
   "outputs": [],
   "source": [
    "X_test = test['Tweet']"
   ]
  },
  {
   "cell_type": "code",
   "execution_count": 49,
   "metadata": {},
   "outputs": [],
   "source": [
    "X_test_cleaned = X_test.apply(demoji_text).apply(convert_emoji).apply(strip_all_entities).apply(clean_hashtags).apply(filter_chars).apply(remove_mult_spaces).values"
   ]
  },
  {
   "cell_type": "code",
   "execution_count": 50,
   "metadata": {},
   "outputs": [],
   "source": [
    "testset = Dataset.from_dict({\n",
    "    'texts': X_test_cleaned,\n",
    "})"
   ]
  },
  {
   "cell_type": "code",
   "execution_count": 51,
   "metadata": {},
   "outputs": [],
   "source": [
    "preds = custom_pipeline(testset['texts'])"
   ]
  },
  {
   "cell_type": "code",
   "execution_count": 52,
   "metadata": {},
   "outputs": [],
   "source": [
    "pred_df = pd.DataFrame(columns=test.columns[2:])\n",
    "\n",
    "for pred in preds:\n",
    "    temp_ans = label2id\n",
    "    for pred_label in pred:\n",
    "        if pred_label['score']>0.26:\n",
    "            temp_ans[pred_label['label']] = 1\n",
    "        else: \n",
    "            temp_ans[pred_label['label']] = 0\n",
    "    pred_df = pd.concat([pred_df, pd.DataFrame([temp_ans])], ignore_index=True)"
   ]
  },
  {
   "cell_type": "code",
   "execution_count": 53,
   "metadata": {},
   "outputs": [],
   "source": [
    "sub_df = pd.concat([test[['ID']], pred_df], axis=1)\n",
    "sub_df.to_csv(model_folder/'first_sub.csv', index = False)"
   ]
  },
  {
   "cell_type": "code",
   "execution_count": 54,
   "metadata": {},
   "outputs": [
    {
     "name": "stderr",
     "output_type": "stream",
     "text": [
      "100%|██████████| 108k/108k [00:01<00:00, 98.6kB/s] \n"
     ]
    },
    {
     "data": {
      "text/plain": [
       "Successfully submitted to Emotion Detection Spring2024"
      ]
     },
     "execution_count": 54,
     "metadata": {},
     "output_type": "execute_result"
    }
   ],
   "source": [
    "comp = 'emotion-detection-spring2014'\n",
    "api.competition_submit(model_folder/'first_sub.csv', 'preprocessing', comp)"
   ]
  },
  {
   "cell_type": "code",
   "execution_count": null,
   "metadata": {},
   "outputs": [],
   "source": []
  }
 ],
 "metadata": {
  "kernelspec": {
   "display_name": "anlp",
   "language": "python",
   "name": "python3"
  },
  "language_info": {
   "codemirror_mode": {
    "name": "ipython",
    "version": 3
   },
   "file_extension": ".py",
   "mimetype": "text/x-python",
   "name": "python",
   "nbconvert_exporter": "python",
   "pygments_lexer": "ipython3",
   "version": "3.9.19"
  }
 },
 "nbformat": 4,
 "nbformat_minor": 2
}
